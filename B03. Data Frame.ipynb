{
 "cells": [
  {
   "cell_type": "code",
   "execution_count": 18,
   "metadata": {
    "collapsed": false
   },
   "outputs": [
    {
     "data": {
      "text/html": [
       "<div>\n",
       "<table border=\"1\" class=\"dataframe\">\n",
       "  <thead>\n",
       "    <tr style=\"text-align: right;\">\n",
       "      <th></th>\n",
       "      <th>A</th>\n",
       "      <th>B</th>\n",
       "      <th>C</th>\n",
       "      <th>D</th>\n",
       "    </tr>\n",
       "  </thead>\n",
       "  <tbody>\n",
       "    <tr>\n",
       "      <th>a</th>\n",
       "      <td>-0.958973</td>\n",
       "      <td>2.011839</td>\n",
       "      <td>0.982392</td>\n",
       "      <td>1.462130</td>\n",
       "    </tr>\n",
       "    <tr>\n",
       "      <th>b</th>\n",
       "      <td>0.738227</td>\n",
       "      <td>-1.467197</td>\n",
       "      <td>0.689239</td>\n",
       "      <td>0.535318</td>\n",
       "    </tr>\n",
       "    <tr>\n",
       "      <th>c</th>\n",
       "      <td>-0.646944</td>\n",
       "      <td>-0.358603</td>\n",
       "      <td>-0.050590</td>\n",
       "      <td>-0.087012</td>\n",
       "    </tr>\n",
       "  </tbody>\n",
       "</table>\n",
       "</div>"
      ],
      "text/plain": [
       "          A         B         C         D\n",
       "a -0.958973  2.011839  0.982392  1.462130\n",
       "b  0.738227 -1.467197  0.689239  0.535318\n",
       "c -0.646944 -0.358603 -0.050590 -0.087012"
      ]
     },
     "execution_count": 18,
     "metadata": {},
     "output_type": "execute_result"
    }
   ],
   "source": [
    "#import the pandas library and aliasing as pd\n",
    "import pandas as pd\n",
    "import numpy as np\n",
    "\n",
    "df = pd.DataFrame(np.random.randn(8, 4),\n",
    "index = ['a','b','c','d','e','f','g','h'], columns = ['A', 'B', 'C', 'D'])\n",
    "\n",
    "# show first 3 shows\n",
    "df.head(3)\n"
   ]
  },
  {
   "cell_type": "code",
   "execution_count": 20,
   "metadata": {
    "collapsed": false
   },
   "outputs": [
    {
     "data": {
      "text/plain": [
       "A   -0.958973\n",
       "B    2.011839\n",
       "C    0.982392\n",
       "D    1.462130\n",
       "Name: a, dtype: float64"
      ]
     },
     "execution_count": 20,
     "metadata": {},
     "output_type": "execute_result"
    }
   ],
   "source": [
    "# row 0, all columns\n",
    "df.loc['a', :]\n"
   ]
  },
  {
   "cell_type": "code",
   "execution_count": 21,
   "metadata": {
    "collapsed": false
   },
   "outputs": [
    {
     "data": {
      "text/html": [
       "<div>\n",
       "<table border=\"1\" class=\"dataframe\">\n",
       "  <thead>\n",
       "    <tr style=\"text-align: right;\">\n",
       "      <th></th>\n",
       "      <th>A</th>\n",
       "      <th>B</th>\n",
       "      <th>C</th>\n",
       "      <th>D</th>\n",
       "    </tr>\n",
       "  </thead>\n",
       "  <tbody>\n",
       "    <tr>\n",
       "      <th>a</th>\n",
       "      <td>-0.958973</td>\n",
       "      <td>2.011839</td>\n",
       "      <td>0.982392</td>\n",
       "      <td>1.462130</td>\n",
       "    </tr>\n",
       "    <tr>\n",
       "      <th>b</th>\n",
       "      <td>0.738227</td>\n",
       "      <td>-1.467197</td>\n",
       "      <td>0.689239</td>\n",
       "      <td>0.535318</td>\n",
       "    </tr>\n",
       "    <tr>\n",
       "      <th>c</th>\n",
       "      <td>-0.646944</td>\n",
       "      <td>-0.358603</td>\n",
       "      <td>-0.050590</td>\n",
       "      <td>-0.087012</td>\n",
       "    </tr>\n",
       "  </tbody>\n",
       "</table>\n",
       "</div>"
      ],
      "text/plain": [
       "          A         B         C         D\n",
       "a -0.958973  2.011839  0.982392  1.462130\n",
       "b  0.738227 -1.467197  0.689239  0.535318\n",
       "c -0.646944 -0.358603 -0.050590 -0.087012"
      ]
     },
     "execution_count": 21,
     "metadata": {},
     "output_type": "execute_result"
    }
   ],
   "source": [
    "# rows 0, 1, 2\n",
    "# all columns\n",
    "df.loc[['a', 'b', 'c'], :]"
   ]
  },
  {
   "cell_type": "code",
   "execution_count": 24,
   "metadata": {
    "collapsed": false
   },
   "outputs": [
    {
     "data": {
      "text/html": [
       "<div>\n",
       "<table border=\"1\" class=\"dataframe\">\n",
       "  <thead>\n",
       "    <tr style=\"text-align: right;\">\n",
       "      <th></th>\n",
       "      <th>A</th>\n",
       "      <th>B</th>\n",
       "      <th>C</th>\n",
       "      <th>D</th>\n",
       "    </tr>\n",
       "  </thead>\n",
       "  <tbody>\n",
       "    <tr>\n",
       "      <th>a</th>\n",
       "      <td>-0.958973</td>\n",
       "      <td>2.011839</td>\n",
       "      <td>0.982392</td>\n",
       "      <td>1.462130</td>\n",
       "    </tr>\n",
       "    <tr>\n",
       "      <th>b</th>\n",
       "      <td>0.738227</td>\n",
       "      <td>-1.467197</td>\n",
       "      <td>0.689239</td>\n",
       "      <td>0.535318</td>\n",
       "    </tr>\n",
       "    <tr>\n",
       "      <th>c</th>\n",
       "      <td>-0.646944</td>\n",
       "      <td>-0.358603</td>\n",
       "      <td>-0.050590</td>\n",
       "      <td>-0.087012</td>\n",
       "    </tr>\n",
       "  </tbody>\n",
       "</table>\n",
       "</div>"
      ],
      "text/plain": [
       "          A         B         C         D\n",
       "a -0.958973  2.011839  0.982392  1.462130\n",
       "b  0.738227 -1.467197  0.689239  0.535318\n",
       "c -0.646944 -0.358603 -0.050590 -0.087012"
      ]
     },
     "execution_count": 24,
     "metadata": {},
     "output_type": "execute_result"
    }
   ],
   "source": [
    "# same as above\n",
    "df.loc['a':'c', :]"
   ]
  },
  {
   "cell_type": "code",
   "execution_count": 25,
   "metadata": {
    "collapsed": false
   },
   "outputs": [
    {
     "data": {
      "text/html": [
       "<div>\n",
       "<table border=\"1\" class=\"dataframe\">\n",
       "  <thead>\n",
       "    <tr style=\"text-align: right;\">\n",
       "      <th></th>\n",
       "      <th>A</th>\n",
       "      <th>B</th>\n",
       "      <th>C</th>\n",
       "      <th>D</th>\n",
       "    </tr>\n",
       "  </thead>\n",
       "  <tbody>\n",
       "    <tr>\n",
       "      <th>a</th>\n",
       "      <td>-0.958973</td>\n",
       "      <td>2.011839</td>\n",
       "      <td>0.982392</td>\n",
       "      <td>1.462130</td>\n",
       "    </tr>\n",
       "    <tr>\n",
       "      <th>b</th>\n",
       "      <td>0.738227</td>\n",
       "      <td>-1.467197</td>\n",
       "      <td>0.689239</td>\n",
       "      <td>0.535318</td>\n",
       "    </tr>\n",
       "    <tr>\n",
       "      <th>c</th>\n",
       "      <td>-0.646944</td>\n",
       "      <td>-0.358603</td>\n",
       "      <td>-0.050590</td>\n",
       "      <td>-0.087012</td>\n",
       "    </tr>\n",
       "  </tbody>\n",
       "</table>\n",
       "</div>"
      ],
      "text/plain": [
       "          A         B         C         D\n",
       "a -0.958973  2.011839  0.982392  1.462130\n",
       "b  0.738227 -1.467197  0.689239  0.535318\n",
       "c -0.646944 -0.358603 -0.050590 -0.087012"
      ]
     },
     "execution_count": 25,
     "metadata": {},
     "output_type": "execute_result"
    }
   ],
   "source": [
    "# if you leave off \", :\" pandas would assume it's there\n",
    "# but you should leave it there to improve code readability\n",
    "df.loc['a':'c']"
   ]
  },
  {
   "cell_type": "code",
   "execution_count": 26,
   "metadata": {
    "collapsed": false
   },
   "outputs": [
    {
     "data": {
      "text/plain": [
       "a    2.011839\n",
       "b   -1.467197\n",
       "c   -0.358603\n",
       "d    0.181864\n",
       "e   -1.393782\n",
       "f    0.111947\n",
       "g    0.135313\n",
       "h    0.079173\n",
       "Name: B, dtype: float64"
      ]
     },
     "execution_count": 26,
     "metadata": {},
     "output_type": "execute_result"
    }
   ],
   "source": [
    "# all rows\n",
    "# column: B\n",
    "df.loc[:, 'B']"
   ]
  },
  {
   "cell_type": "code",
   "execution_count": 27,
   "metadata": {
    "collapsed": false
   },
   "outputs": [
    {
     "data": {
      "text/html": [
       "<div>\n",
       "<table border=\"1\" class=\"dataframe\">\n",
       "  <thead>\n",
       "    <tr style=\"text-align: right;\">\n",
       "      <th></th>\n",
       "      <th>B</th>\n",
       "      <th>C</th>\n",
       "      <th>D</th>\n",
       "    </tr>\n",
       "  </thead>\n",
       "  <tbody>\n",
       "    <tr>\n",
       "      <th>a</th>\n",
       "      <td>2.011839</td>\n",
       "      <td>0.982392</td>\n",
       "      <td>1.462130</td>\n",
       "    </tr>\n",
       "    <tr>\n",
       "      <th>b</th>\n",
       "      <td>-1.467197</td>\n",
       "      <td>0.689239</td>\n",
       "      <td>0.535318</td>\n",
       "    </tr>\n",
       "    <tr>\n",
       "      <th>c</th>\n",
       "      <td>-0.358603</td>\n",
       "      <td>-0.050590</td>\n",
       "      <td>-0.087012</td>\n",
       "    </tr>\n",
       "    <tr>\n",
       "      <th>d</th>\n",
       "      <td>0.181864</td>\n",
       "      <td>-1.121404</td>\n",
       "      <td>-1.071459</td>\n",
       "    </tr>\n",
       "    <tr>\n",
       "      <th>e</th>\n",
       "      <td>-1.393782</td>\n",
       "      <td>-0.470086</td>\n",
       "      <td>-0.680834</td>\n",
       "    </tr>\n",
       "    <tr>\n",
       "      <th>f</th>\n",
       "      <td>0.111947</td>\n",
       "      <td>-1.684332</td>\n",
       "      <td>0.316198</td>\n",
       "    </tr>\n",
       "    <tr>\n",
       "      <th>g</th>\n",
       "      <td>0.135313</td>\n",
       "      <td>-0.712351</td>\n",
       "      <td>1.120596</td>\n",
       "    </tr>\n",
       "    <tr>\n",
       "      <th>h</th>\n",
       "      <td>0.079173</td>\n",
       "      <td>-0.671274</td>\n",
       "      <td>0.091666</td>\n",
       "    </tr>\n",
       "  </tbody>\n",
       "</table>\n",
       "</div>"
      ],
      "text/plain": [
       "          B         C         D\n",
       "a  2.011839  0.982392  1.462130\n",
       "b -1.467197  0.689239  0.535318\n",
       "c -0.358603 -0.050590 -0.087012\n",
       "d  0.181864 -1.121404 -1.071459\n",
       "e -1.393782 -0.470086 -0.680834\n",
       "f  0.111947 -1.684332  0.316198\n",
       "g  0.135313 -0.712351  1.120596\n",
       "h  0.079173 -0.671274  0.091666"
      ]
     },
     "execution_count": 27,
     "metadata": {},
     "output_type": "execute_result"
    }
   ],
   "source": [
    "# similar code for B through D\n",
    "df.loc[:, 'B':'D']"
   ]
  },
  {
   "cell_type": "code",
   "execution_count": null,
   "metadata": {
    "collapsed": true
   },
   "outputs": [],
   "source": [
    "#select all rows for a specific column\n",
    "print (df.loc[:,'A'])\n",
    "\n",
    "#Select all rows for multiple columns, say list[]\n",
    "print (df.loc[:,['A','C']])"
   ]
  },
  {
   "cell_type": "code",
   "execution_count": 6,
   "metadata": {
    "collapsed": false
   },
   "outputs": [
    {
     "name": "stdout",
     "output_type": "stream",
     "text": [
      "          A         C\n",
      "a -1.490403 -0.202893\n",
      "b  0.326884  0.381885\n",
      "f  0.051058 -0.588767\n",
      "h -0.356991 -1.612385\n"
     ]
    }
   ],
   "source": [
    "# Select few rows for multiple columns, say list[]\n",
    "print( df.loc[['a','b','f','h'],['A','C']])"
   ]
  },
  {
   "cell_type": "code",
   "execution_count": 7,
   "metadata": {
    "collapsed": false
   },
   "outputs": [
    {
     "name": "stdout",
     "output_type": "stream",
     "text": [
      "          A         B         C         D\n",
      "a -1.490403  1.887060 -0.202893  0.707823\n",
      "b  0.326884  0.326446  0.381885  0.586120\n",
      "c  0.226275  0.249536 -0.093573  1.526812\n",
      "d -1.323985 -0.376099 -0.981464 -0.713888\n",
      "e  0.540857  0.637105 -0.473116 -2.063304\n",
      "f  0.051058  2.223532 -0.588767  1.372965\n",
      "g  1.385412  0.751320 -0.118992 -0.185812\n",
      "h -0.356991  0.810129 -1.612385 -0.671680\n"
     ]
    }
   ],
   "source": [
    "# Select range of rows for all columns\n",
    "print (df.loc['a':'h'])"
   ]
  },
  {
   "cell_type": "code",
   "execution_count": 8,
   "metadata": {
    "collapsed": false
   },
   "outputs": [
    {
     "name": "stdout",
     "output_type": "stream",
     "text": [
      "A    False\n",
      "B     True\n",
      "C    False\n",
      "D     True\n",
      "Name: a, dtype: bool\n"
     ]
    }
   ],
   "source": [
    "# for getting values with a boolean array\n",
    "print (df.loc['a']>0)"
   ]
  },
  {
   "cell_type": "code",
   "execution_count": 12,
   "metadata": {
    "collapsed": false
   },
   "outputs": [
    {
     "name": "stdout",
     "output_type": "stream",
     "text": [
      "          A         B         C         D\n",
      "a -1.490403  1.887060 -0.202893  0.707823\n",
      "b  0.326884  0.326446  0.381885  0.586120\n",
      "c  0.226275  0.249536 -0.093573  1.526812\n",
      "d -1.323985 -0.376099 -0.981464 -0.713888\n",
      "e  0.540857  0.637105 -0.473116 -2.063304\n",
      "          C         D\n",
      "b  0.381885  0.586120\n",
      "c -0.093573  1.526812\n",
      "d -0.981464 -0.713888\n",
      "e -0.473116 -2.063304\n"
     ]
    }
   ],
   "source": [
    "# select all rows for a specific column\n",
    "print (df.iloc[:5])\n",
    "print (df.iloc[1:5, 2:4])"
   ]
  },
  {
   "cell_type": "code",
   "execution_count": null,
   "metadata": {
    "collapsed": true
   },
   "outputs": [],
   "source": []
  }
 ],
 "metadata": {
  "kernelspec": {
   "display_name": "Python 3",
   "language": "python",
   "name": "python3"
  },
  "language_info": {
   "codemirror_mode": {
    "name": "ipython",
    "version": 3
   },
   "file_extension": ".py",
   "mimetype": "text/x-python",
   "name": "python",
   "nbconvert_exporter": "python",
   "pygments_lexer": "ipython3",
   "version": "3.4.3"
  }
 },
 "nbformat": 4,
 "nbformat_minor": 0
}
