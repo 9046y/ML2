{
 "cells": [
  {
   "cell_type": "code",
   "execution_count": 11,
   "metadata": {
    "collapsed": false
   },
   "outputs": [
    {
     "name": "stdout",
     "output_type": "stream",
     "text": [
      "[1 4]\n"
     ]
    },
    {
     "data": {
      "text/plain": [
       "0.5"
      ]
     },
     "execution_count": 11,
     "metadata": {},
     "output_type": "execute_result"
    }
   ],
   "source": [
    "from sklearn.linear_model import LogisticRegression\n",
    "from sklearn.metrics import accuracy_score\n",
    "import numpy as np\n",
    "\n",
    "# data from columns A - D\n",
    "Xtrain = np.array([[1,    20,   30,   1],\n",
    "                   [2,    22,   12,   33],\n",
    "                   [3,    45,   65,   77],\n",
    "                   [12,   43,   55,   65],\n",
    "                   [11,   25,   30,   1],\n",
    "                   [22,   23,   19,   31],\n",
    "                   [31,   41,   11,   70],\n",
    "                   [1,    48,   23,   60]])\n",
    "\n",
    "# data from column E\n",
    "ytrain = np.array([1, 2, 3, 4, 1, 2, 3, 4])\n",
    "\n",
    "Xtest = np.array([[1,    20,   30,   1],\n",
    "                   [2,    22,   12,   33]])\n",
    "\n",
    "ytest = np.array([1, 2])\n",
    "\n",
    "lr = LogisticRegression().fit(Xtrain, ytrain)\n",
    "\n",
    "yhat = lr.predict(Xtest)\n",
    "\n",
    "print (yhat)\n",
    "\n",
    "accuracy_score(ytest, yhat)"
   ]
  },
  {
   "cell_type": "code",
   "execution_count": null,
   "metadata": {
    "collapsed": true
   },
   "outputs": [],
   "source": []
  }
 ],
 "metadata": {
  "kernelspec": {
   "display_name": "Python 3",
   "language": "python",
   "name": "python3"
  },
  "language_info": {
   "codemirror_mode": {
    "name": "ipython",
    "version": 3
   },
   "file_extension": ".py",
   "mimetype": "text/x-python",
   "name": "python",
   "nbconvert_exporter": "python",
   "pygments_lexer": "ipython3",
   "version": "3.4.3"
  }
 },
 "nbformat": 4,
 "nbformat_minor": 2
}
