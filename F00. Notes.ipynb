{
 "cells": [
  {
   "cell_type": "raw",
   "metadata": {},
   "source": [
    "Types of Machine Learning\n",
    "---------------------------\n",
    "1. Supervised\n",
    "    a. Classification\n",
    "    b. Regression    \n",
    "\n",
    "2. Unsupervised\n",
    "    a. Clustering\n",
    "    b. Association\n",
    "    \n",
    "3. Reinforcement Learning\n",
    "\n",
    "\n",
    "It might surprise you, but there are only 5 questions that data science answers:\n",
    "---------------------------\n",
    "Is this A or B? - Classification\n",
    "How much – or – How many? - Regression\n",
    "How is this organized? - Clustering\n",
    "Is this weird? - Anomaly detection\n",
    "What should I do next? - Reinforcement\n",
    "\n"
   ]
  }
 ],
 "metadata": {
  "kernelspec": {
   "display_name": "Python 3",
   "language": "python",
   "name": "python3"
  },
  "language_info": {
   "codemirror_mode": {
    "name": "ipython",
    "version": 3
   },
   "file_extension": ".py",
   "mimetype": "text/x-python",
   "name": "python",
   "nbconvert_exporter": "python",
   "pygments_lexer": "ipython3",
   "version": "3.4.3"
  }
 },
 "nbformat": 4,
 "nbformat_minor": 0
}
