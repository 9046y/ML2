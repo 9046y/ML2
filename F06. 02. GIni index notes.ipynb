{
 "cells": [
  {
   "cell_type": "code",
   "execution_count": null,
   "metadata": {
    "collapsed": true
   },
   "outputs": [],
   "source": [
    "         count   % \n",
    "yes      346     74\n",
    "no       124     26\n",
    "overall  470\n",
    "\n",
    "\n",
    "Gini Index = 1 - 0.742 - 0.262\n",
    "\n",
    "           = 1-0.5476 -0.0676\n",
    "\n",
    "           = 0.3848"
   ]
  }
 ],
 "metadata": {
  "kernelspec": {
   "display_name": "Python 3",
   "language": "python",
   "name": "python3"
  },
  "language_info": {
   "codemirror_mode": {
    "name": "ipython",
    "version": 3
   },
   "file_extension": ".py",
   "mimetype": "text/x-python",
   "name": "python",
   "nbconvert_exporter": "python",
   "pygments_lexer": "ipython3",
   "version": "3.4.3"
  }
 },
 "nbformat": 4,
 "nbformat_minor": 0
}
