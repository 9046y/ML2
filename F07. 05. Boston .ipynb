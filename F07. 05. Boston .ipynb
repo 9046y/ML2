{
 "cells": [
  {
   "cell_type": "code",
   "execution_count": 2,
   "metadata": {
    "collapsed": false
   },
   "outputs": [
    {
     "name": "stdout",
     "output_type": "stream",
     "text": [
      "Python: 3.4.3 (default, Oct 14 2015, 20:28:29) \n",
      "[GCC 4.8.4]\n",
      "[[  4.41700000e-02   7.00000000e+01   2.24000000e+00   0.00000000e+00\n",
      "    4.00000000e-01   6.87100000e+00   4.74000000e+01   7.82780000e+00\n",
      "    5.00000000e+00   3.58000000e+02   1.48000000e+01   3.90860000e+02\n",
      "    6.07000000e+00]\n",
      " [  3.49400000e-01   0.00000000e+00   9.90000000e+00   0.00000000e+00\n",
      "    5.44000000e-01   5.97200000e+00   7.67000000e+01   3.10250000e+00\n",
      "    4.00000000e+00   3.04000000e+02   1.84000000e+01   3.96240000e+02\n",
      "    9.97000000e+00]]\n"
     ]
    }
   ],
   "source": [
    "from sklearn.tree import DecisionTreeRegressor\n",
    "from sklearn.ensemble import RandomForestRegressor\n",
    "import numpy as np\n",
    " \n",
    "from sklearn.datasets import load_boston\n",
    "boston = load_boston()\n",
    "rf = RandomForestRegressor()\n",
    "rf.fit(boston.data[:300], boston.target[:300])\n",
    "\n",
    "\n",
    "instances = boston.data[[300, 309]]\n",
    "print (instances)"
   ]
  },
  {
   "cell_type": "code",
   "execution_count": null,
   "metadata": {
    "collapsed": true
   },
   "outputs": [],
   "source": []
  }
 ],
 "metadata": {
  "kernelspec": {
   "display_name": "Python 3",
   "language": "python",
   "name": "python3"
  },
  "language_info": {
   "codemirror_mode": {
    "name": "ipython",
    "version": 3
   },
   "file_extension": ".py",
   "mimetype": "text/x-python",
   "name": "python",
   "nbconvert_exporter": "python",
   "pygments_lexer": "ipython3",
   "version": "3.4.3"
  }
 },
 "nbformat": 4,
 "nbformat_minor": 0
}
