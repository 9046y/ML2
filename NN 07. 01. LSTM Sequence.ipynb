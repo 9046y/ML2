{
 "cells": [
  {
   "cell_type": "code",
   "execution_count": 9,
   "metadata": {
    "collapsed": false
   },
   "outputs": [
    {
     "name": "stdout",
     "output_type": "stream",
     "text": [
      "[0.0, 0.1, 0.2, 0.3, 0.4, 0.5, 0.6, 0.7, 0.8, 0.9]\n"
     ]
    }
   ],
   "source": [
    "# Example of LSTM to learn a sequence\n",
    "from pandas import DataFrame\n",
    "from pandas import concat\n",
    "from keras.models import Sequential\n",
    "from keras.layers import Dense\n",
    "from keras.layers import LSTM\n",
    "# create sequence\n",
    "length = 10\n",
    "sequence = [i/float(length) for i in range(length)]\n",
    "print(sequence)\n",
    "\n"
   ]
  },
  {
   "cell_type": "code",
   "execution_count": 10,
   "metadata": {
    "collapsed": false
   },
   "outputs": [
    {
     "name": "stdout",
     "output_type": "stream",
     "text": [
      "[[[0. ]]\n",
      "\n",
      " [[0.1]]\n",
      "\n",
      " [[0.2]]\n",
      "\n",
      " [[0.3]]\n",
      "\n",
      " [[0.4]]\n",
      "\n",
      " [[0.5]]\n",
      "\n",
      " [[0.6]]\n",
      "\n",
      " [[0.7]]\n",
      "\n",
      " [[0.8]]]\n",
      "[0.1 0.2 0.3 0.4 0.5 0.6 0.7 0.8 0.9]\n"
     ]
    }
   ],
   "source": [
    "\n",
    "# create X/y pairs\n",
    "df = DataFrame(sequence)\n",
    "df = concat([df.shift(1), df], axis=1)\n",
    "df.dropna(inplace=True)\n",
    "# convert to LSTM friendly format\n",
    "values = df.values\n",
    "X, y = values[:, 0], values[:, 1]\n",
    "X = X.reshape(len(X), 1, 1)\n",
    "\n",
    "print(X)\n",
    "print(y)\n"
   ]
  },
  {
   "cell_type": "raw",
   "metadata": {},
   "source": [
    "Input must be three-dimensional, comprised of samples, timesteps, and features.\n",
    "\n",
    "Samples. These are the rows in your data.\n",
    "Timesteps. These are the past observations for a feature, such as lag variables.\n",
    "Features. These are columns in your data."
   ]
  },
  {
   "cell_type": "code",
   "execution_count": 11,
   "metadata": {
    "collapsed": true
   },
   "outputs": [],
   "source": [
    "# 1. define network\n",
    "model = Sequential()\n",
    "model.add(LSTM(10, input_shape=(1,1)))\n",
    "model.add(Dense(1))\n",
    "# 2. compile network\n",
    "model.compile(optimizer='adam', loss='mean_squared_error')\n"
   ]
  },
  {
   "cell_type": "code",
   "execution_count": 12,
   "metadata": {
    "collapsed": false
   },
   "outputs": [
    {
     "name": "stdout",
     "output_type": "stream",
     "text": [
      "0.00010864782962016761\n",
      "[0.12387129 0.20771408 0.29711384 0.39142713 0.48990315 0.59171844\n",
      " 0.69601834 0.80195844 0.908743  ]\n"
     ]
    }
   ],
   "source": [
    "# 3. fit network\n",
    "history = model.fit(X, y, epochs=1000, batch_size=len(X), verbose=0)\n",
    "# 4. evaluate network\n",
    "loss = model.evaluate(X, y, verbose=0)\n",
    "print(loss)\n",
    "# 5. make predictions\n",
    "predictions = model.predict(X, verbose=0)\n",
    "print(predictions[:, 0])\n"
   ]
  },
  {
   "cell_type": "code",
   "execution_count": 17,
   "metadata": {
    "collapsed": false
   },
   "outputs": [
    {
     "name": "stdout",
     "output_type": "stream",
     "text": [
      "[[0.20771408]]\n"
     ]
    }
   ],
   "source": [
    "\n",
    "print(model.predict([[[[0.1]]]], verbose=0))"
   ]
  },
  {
   "cell_type": "code",
   "execution_count": null,
   "metadata": {
    "collapsed": true
   },
   "outputs": [],
   "source": []
  }
 ],
 "metadata": {
  "kernelspec": {
   "display_name": "Python 2",
   "language": "python",
   "name": "python2"
  },
  "language_info": {
   "codemirror_mode": {
    "name": "ipython",
    "version": 2
   },
   "file_extension": ".py",
   "mimetype": "text/x-python",
   "name": "python",
   "nbconvert_exporter": "python",
   "pygments_lexer": "ipython2",
   "version": "2.7.6"
  }
 },
 "nbformat": 4,
 "nbformat_minor": 0
}
