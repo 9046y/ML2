{
 "cells": [
  {
   "cell_type": "code",
   "execution_count": 2,
   "metadata": {
    "collapsed": false
   },
   "outputs": [
    {
     "name": "stdout",
     "output_type": "stream",
     "text": [
      "    Loan_ID Gender Married Dependents Education Self_Employed  \\\n",
      "0  LP001032   Male      No          0  Graduate            No   \n",
      "1  LP001824   Male     Yes          1  Graduate            No   \n",
      "2  LP002928   Male     Yes          0  Graduate            No   \n",
      "3  LP001814   Male     Yes          2  Graduate            No   \n",
      "4  LP002244   Male     Yes          0  Graduate            No   \n",
      "\n",
      "   ApplicantIncome  CoapplicantIncome  LoanAmount  Loan_Amount_Term  \\\n",
      "0             4950                  0         125               360   \n",
      "1             2882               1843         123               480   \n",
      "2             3000               3416          56               180   \n",
      "3             9703                  0         112               360   \n",
      "4             2333               2417         136               360   \n",
      "\n",
      "   Credit_History Property_Area  \n",
      "0               1         Urban  \n",
      "1               1     Semiurban  \n",
      "2               1     Semiurban  \n",
      "3               1         Urban  \n",
      "4               1         Urban  \n"
     ]
    }
   ],
   "source": [
    "# Importing pandas\n",
    "import pandas as pd\n",
    "# Importing training data set\n",
    "X_train=pd.read_csv('data/loan/X_train.csv')\n",
    "Y_train=pd.read_csv('data/loan/Y_train.csv')\n",
    "\n",
    "# Importing testing data set\n",
    "X_test=pd.read_csv('data/loan/X_test.csv')\n",
    "Y_test=pd.read_csv('data/loan/Y_test.csv')\n",
    "\n",
    "print (X_train.head())\n"
   ]
  },
  {
   "cell_type": "code",
   "execution_count": 3,
   "metadata": {
    "collapsed": false
   },
   "outputs": [
    {
     "data": {
      "text/plain": [
       "array([[<matplotlib.axes._subplots.AxesSubplot object at 0x7fe2733db208>,\n",
       "        <matplotlib.axes._subplots.AxesSubplot object at 0x7fe2730ecf60>],\n",
       "       [<matplotlib.axes._subplots.AxesSubplot object at 0x7fe2730aeb70>,\n",
       "        <matplotlib.axes._subplots.AxesSubplot object at 0x7fe273077ef0>],\n",
       "       [<matplotlib.axes._subplots.AxesSubplot object at 0x7fe273034a20>,\n",
       "        <matplotlib.axes._subplots.AxesSubplot object at 0x7fe273000da0>]], dtype=object)"
      ]
     },
     "execution_count": 3,
     "metadata": {},
     "output_type": "execute_result"
    }
   ],
   "source": [
    "import matplotlib.pyplot as plt\n",
    "\n",
    "X_train[X_train.dtypes[(X_train.dtypes==\"float64\")|(X_train.dtypes==\"int64\")]\n",
    "                        .index.values].hist(figsize=[11,11])\n"
   ]
  },
  {
   "cell_type": "raw",
   "metadata": {},
   "source": [
    "After understanding these plots, we infer that ApplicantIncome and CoapplicantIncome are in similar range (0-50000$) where as LoanAmount is in thousands and it ranges from 0 to 600$. The story for Loan_Amount_Term is completely different from other variables because its unit is months as opposed to other variables where the unit is dollars.\n",
    "\n",
    "If we try to apply distance based methods such as kNN on these features, feature with the largest range will dominate the outcome results and we’ll obtain less accurate predictions. We can overcome this trouble using feature scaling.\n"
   ]
  },
  {
   "cell_type": "code",
   "execution_count": 4,
   "metadata": {
    "collapsed": false
   },
   "outputs": [
    {
     "name": "stderr",
     "output_type": "stream",
     "text": [
      "/opt/ds/lib/python3.4/site-packages/ipykernel/__main__.py:4: DataConversionWarning: A column-vector y was passed when a 1d array was expected. Please change the shape of y to (n_samples, ), for example using ravel().\n"
     ]
    },
    {
     "data": {
      "text/plain": [
       "0.61458333333333337"
      ]
     },
     "execution_count": 4,
     "metadata": {},
     "output_type": "execute_result"
    }
   ],
   "source": [
    "from sklearn.neighbors import KNeighborsClassifier\n",
    "knn=KNeighborsClassifier(n_neighbors=5)\n",
    "knn.fit(X_train[['ApplicantIncome', 'CoapplicantIncome','LoanAmount', \n",
    "                   'Loan_Amount_Term', 'Credit_History']],Y_train)\n",
    "# Checking the performance of our model on the testing data set\n",
    "from sklearn.metrics import accuracy_score\n",
    "accuracy_score(Y_test,knn.predict(X_test[['ApplicantIncome', 'CoapplicantIncome',\n",
    "                             'LoanAmount', 'Loan_Amount_Term', 'Credit_History']]))"
   ]
  },
  {
   "cell_type": "raw",
   "metadata": {},
   "source": [
    "Feature Scaling\n",
    "Feature scaling is the method to limit the range of variables so that they can be compared on common grounds. It is performed on continuous variables. sklearn provides a tool MinMaxScaler that will scale down all the features between 0 and 1. "
   ]
  },
  {
   "cell_type": "code",
   "execution_count": 5,
   "metadata": {
    "collapsed": true
   },
   "outputs": [],
   "source": [
    "# Importing MinMaxScaler and initializing it\n",
    "from sklearn.preprocessing import MinMaxScaler\n",
    "min_max=MinMaxScaler()\n",
    "# Scaling down both train and test data set\n",
    "X_train_minmax=min_max.fit_transform(X_train[['ApplicantIncome', 'CoapplicantIncome',\n",
    "                'LoanAmount', 'Loan_Amount_Term', 'Credit_History']])\n",
    "X_test_minmax=min_max.fit_transform(X_test[['ApplicantIncome', 'CoapplicantIncome',\n",
    "                'LoanAmount', 'Loan_Amount_Term', 'Credit_History']])"
   ]
  },
  {
   "cell_type": "code",
   "execution_count": 6,
   "metadata": {
    "collapsed": false
   },
   "outputs": [
    {
     "name": "stderr",
     "output_type": "stream",
     "text": [
      "/opt/ds/lib/python3.4/site-packages/ipykernel/__main__.py:3: DataConversionWarning: A column-vector y was passed when a 1d array was expected. Please change the shape of y to (n_samples, ), for example using ravel().\n",
      "  app.launch_new_instance()\n"
     ]
    },
    {
     "data": {
      "text/plain": [
       "0.75"
      ]
     },
     "execution_count": 6,
     "metadata": {},
     "output_type": "execute_result"
    }
   ],
   "source": [
    "# Fitting k-NN on our scaled data set\n",
    "knn=KNeighborsClassifier(n_neighbors=5)\n",
    "knn.fit(X_train_minmax,Y_train)\n",
    "# Checking the model's accuracy\n",
    "accuracy_score(Y_test,knn.predict(X_test_minmax))"
   ]
  },
  {
   "cell_type": "raw",
   "metadata": {},
   "source": [
    "Great !! Our accuracy has increased from 61% to 75%. This means that some of the features with larger range were dominating the prediction outcome in the domain of distance based methods(kNN).\n",
    "\n",
    "It should be kept in mind while performing distance based methods we must attempt to scale the data, so that the feature with lesser significance might not end up dominating the objective function due to its larger range. In addition, features having different unit should also be scaled thus providing each feature equal initial weightage and at the end we will have a better prediction model."
   ]
  }
 ],
 "metadata": {
  "kernelspec": {
   "display_name": "Python 3",
   "language": "python",
   "name": "python3"
  },
  "language_info": {
   "codemirror_mode": {
    "name": "ipython",
    "version": 3
   },
   "file_extension": ".py",
   "mimetype": "text/x-python",
   "name": "python",
   "nbconvert_exporter": "python",
   "pygments_lexer": "ipython3",
   "version": "3.4.3"
  }
 },
 "nbformat": 4,
 "nbformat_minor": 0
}
