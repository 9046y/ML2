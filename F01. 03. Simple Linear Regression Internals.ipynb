{
 "cells": [
  {
   "cell_type": "code",
   "execution_count": null,
   "metadata": {
    "collapsed": true
   },
   "outputs": [],
   "source": [
    "\n",
    "In simple linear regression we can use statistics on the training data to estimate the coefficients \n",
    "required by the model to make predictions on new data.\n",
    "\n",
    "mean(X) = x1+ x2+ .../ n\n",
    "B1 = sum((x(i) - mean(x)) * (y(i) - mean(y))) / sum( (x(i) - mean(x))^2 )\n",
    "B0 = mean(y) - B1 * mean(x)\n",
    "\n",
    "o implement the simple linear regression we need to know the below formulas.\n",
    "A formula for calculating the mean value.\n",
    "A formula for calculating the variance value.\n",
    "Formula for calculating the covariance between two series of readings (For suppose X, Y)\n",
    "Formulas for calculating the {w}_{0} and {w}_{1} values.\n",
    "Covariance is a measure of how much two variables change together. If the value of the variables increase together, \n",
    "their covariance is positive. If one variable tends to increase while the other decreases, their covariance is negative. \n",
    "If there is no linear relationship between the two variables, their covariance will be equal to zero; the variables are \n",
    "linearly uncorrelated but not necessarily independent. Covariance can be calculated using the following formula:\n",
    "    \n",
    "variance= sum((x1 - mean(X))**2 + ...)/n -1\n",
    "covariance = sum((x1 - mean) **2 * (y1 - mean) **2) + ...) /  n - 1\n",
    "\n",
    "beta = covariance/ variance\n",
    "alpha = ybar - beta * xbar\n"
   ]
  },
  {
   "cell_type": "code",
   "execution_count": 2,
   "metadata": {
    "collapsed": false
   },
   "outputs": [
    {
     "name": "stdout",
     "output_type": "stream",
     "text": [
      "12.9\n",
      "11.2\n",
      "23.2\n",
      "23.2\n",
      "22.65\n",
      "22.65\n",
      "0.9762931034482758\n",
      "1.9655172413793114\n"
     ]
    }
   ],
   "source": [
    "from __future__ import division\n",
    "import numpy as np\n",
    "\n",
    "xbar =  (6 + 8 + 10 + 14 + 18) / 5\n",
    "ybar = (7 + 9 + 13 + 17.5 + 18) / 5\n",
    "\n",
    "print (ybar)\n",
    "print (xbar)\n",
    "\n",
    "variance = ((6 - xbar)**2 + (8 - xbar)**2 + (10 - xbar)**2 + (14 - xbar)**2 + (18 - xbar)**2) / 4\n",
    "print (variance)\n",
    "print (np.var([6, 8, 10, 14, 18], ddof=1))\n",
    "\n",
    "    \n",
    "cov = ((6 - xbar) * (7 - ybar) + (8 - xbar) * (9 - ybar) + (10 - xbar) * (13 - ybar) + \\\n",
    "       (14 - xbar) * (17.5 - ybar) + (18 - xbar) * (18 - ybar)) / 4\n",
    "print (cov)\n",
    "print (np.cov([6, 8, 10, 14, 18], [7, 9, 13, 17.5, 18])[0][1])\n",
    "\n",
    "beta = cov / variance\n",
    "print (beta)\n",
    "\n",
    "alpha = ybar - beta * xbar\n",
    "print (alpha)"
   ]
  },
  {
   "cell_type": "code",
   "execution_count": null,
   "metadata": {
    "collapsed": true
   },
   "outputs": [],
   "source": []
  },
  {
   "cell_type": "code",
   "execution_count": null,
   "metadata": {
    "collapsed": true
   },
   "outputs": [],
   "source": []
  }
 ],
 "metadata": {
  "kernelspec": {
   "display_name": "Python 3",
   "language": "python",
   "name": "python3"
  },
  "language_info": {
   "codemirror_mode": {
    "name": "ipython",
    "version": 3
   },
   "file_extension": ".py",
   "mimetype": "text/x-python",
   "name": "python",
   "nbconvert_exporter": "python",
   "pygments_lexer": "ipython3",
   "version": "3.4.3"
  }
 },
 "nbformat": 4,
 "nbformat_minor": 2
}
