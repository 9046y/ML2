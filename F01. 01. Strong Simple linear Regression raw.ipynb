{
 "cells": [
  {
   "cell_type": "code",
   "execution_count": null,
   "metadata": {
    "collapsed": true
   },
   "outputs": [],
   "source": [
    "Simple regression\n",
    "y=mx+b\n",
    "\n",
    "      *\n",
    "   *\n",
    "*\n",
    "km    miles\n",
    "------------\n",
    "0     0\n",
    "100   62.137\n",
    "\n",
    "\n",
    "“Let’s try c = 0.5 and see what happens.”\n",
    "y = Ax              // + b = 0\n",
    "y = (0.5) x \n",
    "y = (0.5)  (100) \n",
    "y = 50\n",
    "\n",
    "error = truth - calculated\n",
    "= 62.137 - 50\n",
    "= 12.137\n",
    "\n",
    "“We’re wrong by 12.137”\n",
    "\n",
    "“Let’s try c = 0.6 and see what happens.”\n",
    "\n",
    "y = (0.6) x \n",
    "y = (0.6)  (100) \n",
    "y = 60\n",
    "\n",
    "error = truth - calculated\n",
    "= 62.137 - 60\n",
    "= 2.137\n",
    "\n",
    "“We’re wrong by 2.137”\n",
    "\n",
    "“Let’s try c = 0.7”\n",
    "y = Ax              // + b = 0\n",
    "y = (0.7) x \n",
    "y = (0.7)  (100) \n",
    "y = 70\n",
    "\n",
    "error = truth - calculated\n",
    "= 62.137 - 70\n",
    "= -7.863\n",
    "\n",
    "“Let’s try c = 0.61”\n",
    "\n",
    "y = Ax              // + b = 0\n",
    "y = (0.61) x \n",
    "y = (0.61)  (100) \n",
    "y =61\n",
    "\n",
    "error = truth - calculated\n",
    "= 62.137 - 61\n",
    "= 1.137"
   ]
  }
 ],
 "metadata": {
  "kernelspec": {
   "display_name": "Python 3",
   "language": "python",
   "name": "python3"
  },
  "language_info": {
   "codemirror_mode": {
    "name": "ipython",
    "version": 3
   },
   "file_extension": ".py",
   "mimetype": "text/x-python",
   "name": "python",
   "nbconvert_exporter": "python",
   "pygments_lexer": "ipython3",
   "version": "3.4.3"
  }
 },
 "nbformat": 4,
 "nbformat_minor": 0
}
