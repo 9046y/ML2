{
 "cells": [
  {
   "cell_type": "code",
   "execution_count": 1,
   "metadata": {
    "collapsed": false
   },
   "outputs": [
    {
     "name": "stdout",
     "output_type": "stream",
     "text": [
      "None\n",
      "[[0.0, 4], [1.0623112681562006, 2], [1.2353710961872457, 0], [1.3662442958155252, 1], [2.2313794648336573, 3], [3.5283086769264456, 6], [5.458791525766508, 5], [5.540500399901954, 8], [6.027981365245416, 9], [6.900989030532194, 7]]\n"
     ]
    }
   ],
   "source": [
    "import math\n",
    "import pandas\n",
    "\n",
    "X= [[3.393533211,2.331273381],[\n",
    "3.110073483,1.781539638],[\n",
    "1.343808831,3.368360954],[\n",
    "3.582294042,4.67917911],[\n",
    "2.280362439,2.866990263],[\n",
    "7.423436942,4.696522875],[\n",
    "5.745051997,3.533989803],[\n",
    "9.172168622,2.511101045],[\n",
    "7.792783481,3.424088941],[\n",
    "7.939820817,0.791637231]]\n",
    "\n",
    "Y = [2.280362439,2.866990263]\n",
    "\n",
    "def euclidean_distance(row):\n",
    "    return math.sqrt(((row[0] - Y[0]) ** 2) + ((row[1] - Y[1]) ** 2))\n",
    "\n",
    "#res = [ (((row[0] - Y[0]) ** 2) + ((row[1] - Y[1]) ** 2)) for row in X ]\n",
    "\n",
    "res = [ [euclidean_distance(row),ind] for ind,row in enumerate(X) ]\n",
    "\n",
    "print (res.sort())\n",
    "print (res)"
   ]
  },
  {
   "cell_type": "code",
   "execution_count": null,
   "metadata": {
    "collapsed": true
   },
   "outputs": [],
   "source": []
  }
 ],
 "metadata": {
  "kernelspec": {
   "display_name": "Python 3",
   "language": "python",
   "name": "python3"
  },
  "language_info": {
   "codemirror_mode": {
    "name": "ipython",
    "version": 3
   },
   "file_extension": ".py",
   "mimetype": "text/x-python",
   "name": "python",
   "nbconvert_exporter": "python",
   "pygments_lexer": "ipython3",
   "version": "3.4.3"
  }
 },
 "nbformat": 4,
 "nbformat_minor": 2
}
