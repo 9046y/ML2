{
 "cells": [
  {
   "cell_type": "code",
   "execution_count": 3,
   "metadata": {
    "collapsed": false
   },
   "outputs": [
    {
     "name": "stdout",
     "output_type": "stream",
     "text": [
      "Centriods :  [[179.03125, 79.3984375], [174.5, 62.5]]\n",
      "Group 0 [[185, 72], [182, 71], [188, 77], [180, 71], [183, 84], [180, 88], [177, 76]]\n",
      "Group 1 [[170, 56], [168, 60], [179, 68], [180, 70], [180, 67]]\n"
     ]
    }
   ],
   "source": [
    "import numpy as np\n",
    "\n",
    "def whichGroupIdx(centriods, datapoint):\n",
    "    euclideanDistances = list(map(lambda point: (((point[0] - datapoint[0]) ** 2 + (point[1] - datapoint[1]) ** 2)) ** 0.5, centriods ) )\n",
    "    return euclideanDistances.index(min(euclideanDistances))\n",
    "\n",
    "def learn(data):\n",
    "    centroids = [[185, 72], [170, 56]]\n",
    "    for dataPoint in data:\n",
    "        minIndex = whichGroupIdx(centroids, dataPoint)\n",
    "        for i,val in enumerate(centroids):\n",
    "            centroids[minIndex][i] = np.mean([centroids[minIndex][i], dataPoint[i]])\n",
    "    return centroids\n",
    "\n",
    "def classifyInputs(data):\n",
    "    centriods = learn(data)\n",
    "    print( \"Centriods : \", centriods)\n",
    "    groups = [[],[]]\n",
    "    for inputDataSet in data:\n",
    "        grpIndex = whichGroupIdx(centriods, inputDataSet)\n",
    "        groups[grpIndex].extend([inputDataSet])\n",
    "    return groups\n",
    "\n",
    "data=[[185,72],[170,56],[168,60]\\\n",
    "    ,[179,68],[182,71],[188,77]\\\n",
    "    ,[180,71],[180,70],[183,84],[180,88],[180,67],[177,76]]\n",
    "\n",
    "groups = classifyInputs(data)\n",
    "for grpIdx ,grp in enumerate(groups):\n",
    "    print(\"Group\", grpIdx, grp)\n"
   ]
  },
  {
   "cell_type": "code",
   "execution_count": null,
   "metadata": {
    "collapsed": true
   },
   "outputs": [],
   "source": []
  }
 ],
 "metadata": {
  "kernelspec": {
   "display_name": "Python 3",
   "language": "python",
   "name": "python3"
  },
  "language_info": {
   "codemirror_mode": {
    "name": "ipython",
    "version": 3
   },
   "file_extension": ".py",
   "mimetype": "text/x-python",
   "name": "python",
   "nbconvert_exporter": "python",
   "pygments_lexer": "ipython3",
   "version": "3.4.3"
  }
 },
 "nbformat": 4,
 "nbformat_minor": 0
}
