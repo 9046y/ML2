{
 "cells": [
  {
   "cell_type": "raw",
   "metadata": {},
   "source": [
    "Discrete Attribute\n",
    "Has only a finite or countably infinite set of values  E.g., zip codes, profession, or the set of words in a collection of documents \n",
    "\n",
    "Sometimes, represented as integer variables\n",
    "\n",
    "\n",
    "Continuous Attribute\n",
    "Has real numbers as attribute values\n",
    "E.g., temperature, height, or weight\n",
    "Practically, real values can only be measured and represented using a finite number of digits\n",
    "Continuous attributes are typically represented as floatingpoint variables\n"
   ]
  }
 ],
 "metadata": {
  "kernelspec": {
   "display_name": "Python 3",
   "language": "python",
   "name": "python3"
  },
  "language_info": {
   "codemirror_mode": {
    "name": "ipython",
    "version": 3
   },
   "file_extension": ".py",
   "mimetype": "text/x-python",
   "name": "python",
   "nbconvert_exporter": "python",
   "pygments_lexer": "ipython3",
   "version": "3.4.3"
  }
 },
 "nbformat": 4,
 "nbformat_minor": 0
}
