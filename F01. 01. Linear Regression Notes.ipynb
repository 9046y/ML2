{
 "cells": [
  {
   "cell_type": "raw",
   "metadata": {},
   "source": [
    "2 types of Linear Regressiom\n",
    "-------------------------------\n",
    "1.Simple Linear Regression\n",
    "When there is a single input variable, the method is referred to as a simple linear regression.\n",
    "\n",
    "y=mx + c\n",
    "\n",
    "2. Multiple Linear Regression\n",
    "Multiple Linear Regression: Having more than one independent variable to predict the dependent variable.\n",
    "\n",
    "f(x,y,z)=w1x+w2y+w3z\n",
    "\n",
    "2 ways to solve a linear problem. \n",
    "---------------------------------\n",
    "1. Direct method \n",
    "\n",
    "1) SVD, which is the most reliable and numerically accurate method, but also takes more computing than alternatives.\n",
    "2) QR, which is fairly reliable and numerically accurate, but not as much as SVD, and is faster than SVD. \n",
    "3) Normal equations (NE), The closed-form solution may (should) be preferred for “smaller” datasets – if computing (a “costly”) matrix inverse is not a concern.\n",
    "\n",
    "2. iterative method.\n",
    "\n",
    "1) Gradient Descent (GD)\n",
    " In the multivariate case, when you have many variables, the formulae is slightly more complicated on paper and requires much more calculations when you implement it in software. So, the gradient descent allows to save a lot of time on calculations. Moreover, the way it's done allows for a trivial parallelization, i.e. distributing the calculations across multiple processors or machines. The linear algebra solution can also be parallelized but it's more complicated and still expensive.\n",
    "\n",
    "Additionally, there are versions of gradient descent when you keep only a piece of your data in memory, lowering the requirements for computer memory. Overall, for extra large problems it's more efficient than linear algebra solution.\n",
    "\n",
    "2) Stochastic Gradient Descent (SGD)"
   ]
  }
 ],
 "metadata": {
  "kernelspec": {
   "display_name": "Python 3",
   "language": "python",
   "name": "python3"
  },
  "language_info": {
   "codemirror_mode": {
    "name": "ipython",
    "version": 3
   },
   "file_extension": ".py",
   "mimetype": "text/x-python",
   "name": "python",
   "nbconvert_exporter": "python",
   "pygments_lexer": "ipython3",
   "version": "3.4.3"
  }
 },
 "nbformat": 4,
 "nbformat_minor": 0
}
