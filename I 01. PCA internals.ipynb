{
 "cells": [
  {
   "cell_type": "code",
   "execution_count": 7,
   "metadata": {
    "collapsed": true
   },
   "outputs": [],
   "source": [
    "from numpy import mean,cov,double,cumsum,dot,linalg,array,rank\n",
    "from pylab import plot,subplot,axis,stem,show,figure\n",
    "%matplotlib inline  \n",
    "\n",
    "def princomp(A):\n",
    " \"\"\" performs principal components analysis \n",
    "     (PCA) on the n-by-p data matrix A\n",
    "     Rows of A correspond to observations, columns to variables. \n",
    "\n",
    " Returns :  \n",
    "  coeff :\n",
    "    is a p-by-p matrix, each column containing coefficients \n",
    "    for one principal component.\n",
    "  score : \n",
    "    the principal component scores; that is, the representation \n",
    "    of A in the principal component space. Rows of SCORE \n",
    "    correspond to observations, columns to components.\n",
    "  latent : \n",
    "    a vector containing the eigenvalues \n",
    "    of the covariance matrix of A.\n",
    " \"\"\"\n",
    " # computing eigenvalues and eigenvectors of covariance matrix\n",
    " M = (A-mean(A.T,axis=1)).T # subtract the mean (along columns)\n",
    " [latent,coeff] = linalg.eig(cov(M)) # attention:not always sorted\n",
    " score = dot(coeff.T,M) # projection of the data in the new space\n",
    " return coeff,score,latent"
   ]
  },
  {
   "cell_type": "code",
   "execution_count": 8,
   "metadata": {
    "collapsed": false
   },
   "outputs": [
    {
     "data": {
      "image/png": "[encoded data removed]",
      "text/plain": [
       "<matplotlib.figure.Figure at 0x7fe30b826278>"
      ]
     },
     "metadata": {},
     "output_type": "display_data"
    }
   ],
   "source": [
    "A = array([ [2.4,0.7,2.9,2.2,3.0,2.7,1.6,1.1,1.6,0.9],\n",
    "            [2.5,0.5,2.2,1.9,3.1,2.3,2,1,1.5,1.1] ])\n",
    "\n",
    "coeff, score, latent = princomp(A.T)\n",
    "\n",
    "figure()\n",
    "subplot(121)\n",
    "# every eigenvector describe the direction\n",
    "# of a principal component.\n",
    "m = mean(A,axis=1)\n",
    "plot([0, -coeff[0,0]*2]+m[0], [0, -coeff[0,1]*2]+m[1],'--k')\n",
    "plot([0, coeff[1,0]*2]+m[0], [0, coeff[1,1]*2]+m[1],'--k')\n",
    "plot(A[0,:],A[1,:],'ob') # the data\n",
    "axis('equal')\n",
    "subplot(122)\n",
    "# new data\n",
    "plot(score[0,:],score[1,:],'*g')\n",
    "axis('equal')\n",
    "show()"
   ]
  },
  {
   "cell_type": "code",
   "execution_count": 9,
   "metadata": {
    "collapsed": false
   },
   "outputs": [
    {
     "data": {
      "image/png": "[encoded data removed]",
      "text/plain": [
       "<matplotlib.figure.Figure at 0x7fe30b570940>"
      ]
     },
     "metadata": {},
     "output_type": "display_data"
    },
    {
     "name": "stdout",
     "output_type": "stream",
     "text": [
      "the principal component scores\n",
      "[[  1.46414023e+00   1.58838284e+00   0.00000000e+00  -4.02455846e-16]\n",
      " [  2.76817063e+00  -1.29250326e+00  -1.11022302e-16   3.78169718e-16]\n",
      " [ -4.23231087e+00  -2.95879577e-01  -1.11022302e-16  -1.52655666e-16]]\n",
      "The rank of A is\n",
      "2\n"
     ]
    },
    {
     "name": "stderr",
     "output_type": "stream",
     "text": [
      "/opt/ds/lib/python3.4/site-packages/numpy/core/fromnumeric.py:2641: VisibleDeprecationWarning: `rank` is deprecated; use the `ndim` attribute or function instead. To find the rank of a matrix see `numpy.linalg.matrix_rank`.\n",
      "  VisibleDeprecationWarning)\n"
     ]
    }
   ],
   "source": [
    "A = array([[-1, 1, 2, 2],\n",
    "           [-2, 3, 1, 0],\n",
    "           [ 4, 0, 3,-1]],dtype=double)\n",
    "\n",
    "coeff, score, latent = princomp(A)\n",
    "perc = cumsum(latent)/sum(latent)\n",
    "figure()\n",
    "# the following plot shows that first two components \n",
    "# account for 100% of the variance.\n",
    "stem(range(len(perc)),perc,'--b')\n",
    "axis([-0.3,4.3,0,1.3])\n",
    "show()\n",
    "print ('the principal component scores')\n",
    "print (score.T )# only the first two columns are nonzero\n",
    "print ('The rank of A is')\n",
    "print (rank(A))  # indeed, the rank of A is 2"
   ]
  },
  {
   "cell_type": "code",
   "execution_count": null,
   "metadata": {
    "collapsed": true
   },
   "outputs": [],
   "source": []
  }
 ],
 "metadata": {
  "kernelspec": {
   "display_name": "Python 3",
   "language": "python",
   "name": "python3"
  },
  "language_info": {
   "codemirror_mode": {
    "name": "ipython",
    "version": 3
   },
   "file_extension": ".py",
   "mimetype": "text/x-python",
   "name": "python",
   "nbconvert_exporter": "python",
   "pygments_lexer": "ipython3",
   "version": "3.4.3"
  }
 },
 "nbformat": 4,
 "nbformat_minor": 0
}
