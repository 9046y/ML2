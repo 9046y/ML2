{
 "cells": [
  {
   "cell_type": "code",
   "execution_count": null,
   "metadata": {
    "collapsed": true
   },
   "outputs": [],
   "source": [
    "Keras is a compact and easy-to-learn high-level Python library for deep learning that can run on top of TensorFlow\n",
    "\n",
    "TensorFlow (or Theano or CNTK) has to be the back end for Keras\n",
    "\n",
    "There are two major kinds of framework: the sequential API and the functional API"
   ]
  },
  {
   "cell_type": "code",
   "execution_count": 1,
   "metadata": {
    "collapsed": false
   },
   "outputs": [
    {
     "name": "stderr",
     "output_type": "stream",
     "text": [
      "/opt/ds/lib/python3.4/site-packages/matplotlib/__init__.py:872: UserWarning: axes.color_cycle is deprecated and replaced with axes.prop_cycle; please use the latter.\n",
      "  warnings.warn(self.msg_depr % (key, alt_key))\n",
      "/opt/ds/lib/python3.4/site-packages/sklearn/cross_validation.py:41: DeprecationWarning: This module was deprecated in version 0.18 in favor of the model_selection module into which all the refactored classes and functions are moved. Also note that the interface of the new CV iterators are different from that of this module. This module will be removed in 0.20.\n",
      "  \"This module will be removed in 0.20.\", DeprecationWarning)\n",
      "Using TensorFlow backend.\n",
      "/opt/ds/lib/python3.4/site-packages/matplotlib/__init__.py:892: UserWarning: axes.color_cycle is deprecated and replaced with axes.prop_cycle; please use the latter.\n",
      "  warnings.warn(self.msg_depr % (key, alt_key))\n"
     ]
    },
    {
     "name": "stdout",
     "output_type": "stream",
     "text": [
      "Accuracy = 0.83\n"
     ]
    },
    {
     "name": "stderr",
     "output_type": "stream",
     "text": [
      "/opt/ds/lib/python3.4/site-packages/ipykernel/__main__.py:38: UserWarning: The `nb_epoch` argument in `fit` has been renamed `epochs`.\n"
     ]
    },
    {
     "data": {
      "text/plain": [
       "<keras.callbacks.History at 0x7f6fc41efda0>"
      ]
     },
     "execution_count": 1,
     "metadata": {},
     "output_type": "execute_result"
    }
   ],
   "source": [
    "\n",
    "import matplotlib.pyplot as plt\n",
    "import seaborn as sns\n",
    "import numpy as np\n",
    "\n",
    "from sklearn.cross_validation import train_test_split\n",
    "from sklearn.linear_model import LogisticRegressionCV\n",
    "\n",
    "from keras.models import Sequential\n",
    "from keras.layers.core import Dense, Activation\n",
    "from keras.utils import np_utils\n",
    "\n",
    "iris = sns.load_dataset(\"iris\")\n",
    "sns.pairplot(iris, hue='species');\n",
    "\n",
    "X = iris.values[:, :4]\n",
    "y = iris.values[:, 4]\n",
    "\n",
    "train_X, test_X, train_y, test_y = train_test_split(X, y, train_size=0.5, random_state=0)\n",
    "lr = LogisticRegressionCV()\n",
    "lr.fit(train_X, train_y)\n",
    "\n",
    "print(\"Accuracy = {:.2f}\".format(lr.score(test_X, test_y)))\n",
    "def one_hot_encode_object_array(arr):\n",
    "    '''One hot encode a numpy array of objects (e.g. strings)'''\n",
    "    uniques, ids = np.unique(arr, return_inverse=True)\n",
    "    return np_utils.to_categorical(ids, len(uniques))\n",
    "\n",
    "train_y_ohe = one_hot_encode_object_array(train_y)\n",
    "test_y_ohe = one_hot_encode_object_array(test_y)\n",
    "\n",
    "model = Sequential()\n",
    "model.add(Dense(16, input_shape=(4,)))\n",
    "model.add(Activation('sigmoid'))\n",
    "model.add(Dense(3))\n",
    "model.add(Activation('softmax'))\n",
    "model.compile(optimizer='adam', loss='categorical_crossentropy', metrics=[\"accuracy\"])\n",
    "model.fit(train_X, train_y_ohe, nb_epoch=100, batch_size=1, verbose=0)\n"
   ]
  },
  {
   "cell_type": "code",
   "execution_count": 2,
   "metadata": {
    "collapsed": false
   },
   "outputs": [
    {
     "data": {
      "text/plain": [
       "array([[9.92258966e-01, 7.74082355e-03, 2.19399752e-07],\n",
       "       [9.88985896e-01, 1.10137537e-02, 3.64880719e-07],\n",
       "       [9.90600586e-01, 9.39901732e-03, 3.00226162e-07],\n",
       "       [9.87362266e-01, 1.26372539e-02, 4.98456586e-07],\n",
       "       [9.92458880e-01, 7.54081970e-03, 2.18048143e-07],\n",
       "       [9.90127981e-01, 9.87161323e-03, 3.53748362e-07],\n",
       "       [9.88884807e-01, 1.11146942e-02, 4.30012363e-07],\n",
       "       [9.90905404e-01, 9.09429044e-03, 2.88028758e-07],\n",
       "       [9.85822856e-01, 1.41765419e-02, 5.95492054e-07],\n",
       "       [9.90424812e-01, 9.57486220e-03, 2.96689052e-07],\n",
       "       [9.92981195e-01, 7.01849302e-03, 1.88196267e-07],\n",
       "       [9.89386559e-01, 1.06130540e-02, 3.87677687e-07],\n",
       "       [9.90402818e-01, 9.59691871e-03, 2.93281403e-07],\n",
       "       [9.91406202e-01, 8.59351549e-03, 2.56212246e-07],\n",
       "       [9.94977295e-01, 5.02259796e-03, 1.03815125e-07],\n",
       "       [9.93858516e-01, 6.14132965e-03, 1.70160348e-07],\n",
       "       [9.92828548e-01, 7.17126345e-03, 2.01922802e-07],\n",
       "       [9.91060674e-01, 8.93910602e-03, 2.80692831e-07],\n",
       "       [9.91792202e-01, 8.20755679e-03, 2.43948477e-07],\n",
       "       [9.91790295e-01, 8.20942689e-03, 2.62754867e-07],\n",
       "       [9.90346014e-01, 9.65358689e-03, 3.03189609e-07],\n",
       "       [9.89814401e-01, 1.01852277e-02, 3.69397696e-07],\n",
       "       [9.93627191e-01, 6.37270324e-03, 1.65439687e-07],\n",
       "       [9.78108525e-01, 2.18902528e-02, 1.19398635e-06],\n",
       "       [9.85170901e-01, 1.48283644e-02, 6.81248423e-07],\n",
       "       [9.86875534e-01, 1.31239938e-02, 4.86123838e-07],\n",
       "       [9.85464036e-01, 1.45353721e-02, 6.33967090e-07],\n",
       "       [9.91859972e-01, 8.13976862e-03, 2.37349269e-07],\n",
       "       [9.92045164e-01, 7.95461424e-03, 2.21086793e-07],\n",
       "       [9.87364829e-01, 1.26346713e-02, 5.03552087e-07],\n",
       "       [9.86888111e-01, 1.31114768e-02, 5.14216197e-07],\n",
       "       [9.88749981e-01, 1.12497276e-02, 3.86677470e-07],\n",
       "       [9.94441211e-01, 5.55866072e-03, 1.41780887e-07],\n",
       "       [9.94657338e-01, 5.34252496e-03, 1.29282071e-07],\n",
       "       [9.88634109e-01, 1.13655403e-02, 3.96342898e-07],\n",
       "       [9.91993308e-01, 8.00644141e-03, 2.15548482e-07],\n",
       "       [9.93365049e-01, 6.63480442e-03, 1.57571009e-07],\n",
       "       [9.93195057e-01, 6.80470932e-03, 1.84902007e-07],\n",
       "       [9.88212168e-01, 1.17873922e-02, 4.43440570e-07],\n",
       "       [9.91159737e-01, 8.83997977e-03, 2.70404911e-07],\n",
       "       [9.91532266e-01, 8.46745539e-03, 2.58081968e-07],\n",
       "       [9.74086821e-01, 2.59117316e-02, 1.39805582e-06],\n",
       "       [9.89694357e-01, 1.03052761e-02, 3.69678531e-07],\n",
       "       [9.78747249e-01, 2.12516114e-02, 1.21804612e-06],\n",
       "       [9.85318422e-01, 1.46809136e-02, 6.97535427e-07],\n",
       "       [9.86196578e-01, 1.38027593e-02, 5.43344356e-07],\n",
       "       [9.92293477e-01, 7.70627754e-03, 2.37294557e-07],\n",
       "       [9.89370823e-01, 1.06288595e-02, 3.79019895e-07],\n",
       "       [9.92821634e-01, 7.17815477e-03, 1.98270797e-07],\n",
       "       [9.91141915e-01, 8.85778666e-03, 2.67048534e-07],\n",
       "       [1.35768773e-02, 9.36070919e-01, 5.03522009e-02],\n",
       "       [9.22071189e-03, 8.85157108e-01, 1.05622269e-01],\n",
       "       [6.13092305e-03, 8.36719394e-01, 1.57149702e-01],\n",
       "       [6.17226120e-03, 8.28636527e-01, 1.65191278e-01],\n",
       "       [5.00412472e-03, 7.95966029e-01, 1.99029848e-01],\n",
       "       [5.97801385e-03, 8.04550588e-01, 1.89471468e-01],\n",
       "       [5.10017155e-03, 7.65730143e-01, 2.29169652e-01],\n",
       "       [3.96131799e-02, 9.45206583e-01, 1.51802152e-02],\n",
       "       [1.11590317e-02, 9.20488536e-01, 6.83524385e-02],\n",
       "       [7.21000787e-03, 8.28099132e-01, 1.64690793e-01],\n",
       "       [1.72878150e-02, 9.40561354e-01, 4.21509035e-02],\n",
       "       [8.05833563e-03, 8.57840538e-01, 1.34101197e-01],\n",
       "       [1.94427464e-02, 9.53243673e-01, 2.73136348e-02],\n",
       "       [4.82017593e-03, 7.66627073e-01, 2.28552774e-01],\n",
       "       [2.86632329e-02, 9.48616266e-01, 2.27205120e-02],\n",
       "       [1.56470705e-02, 9.41626847e-01, 4.27261256e-02],\n",
       "       [3.67042818e-03, 6.73110247e-01, 3.23219270e-01],\n",
       "       [2.72806901e-02, 9.52144265e-01, 2.05750540e-02],\n",
       "       [2.01942516e-03, 5.89013577e-01, 4.08966929e-01],\n",
       "       [1.89011954e-02, 9.44941759e-01, 3.61571014e-02],\n",
       "       [1.13058672e-03, 3.81373048e-01, 6.17496371e-01],\n",
       "       [1.81873050e-02, 9.45138633e-01, 3.66740823e-02],\n",
       "       [1.56162982e-03, 5.04227459e-01, 4.94210899e-01],\n",
       "       [7.94879161e-03, 8.70211542e-01, 1.21839695e-01],\n",
       "       [1.56101035e-02, 9.40846145e-01, 4.35437225e-02],\n",
       "       [1.29222339e-02, 9.30086374e-01, 5.69914058e-02],\n",
       "       [6.17552921e-03, 8.48329186e-01, 1.45495355e-01],\n",
       "       [1.89063756e-03, 5.40622175e-01, 4.57487196e-01],\n",
       "       [4.52596601e-03, 7.47988284e-01, 2.47485787e-01],\n",
       "       [6.44062012e-02, 9.29525077e-01, 6.06873119e-03],\n",
       "       [1.83055121e-02, 9.43792582e-01, 3.79019156e-02],\n",
       "       [2.97048297e-02, 9.51881289e-01, 1.84138231e-02],\n",
       "       [2.07498763e-02, 9.47484612e-01, 3.17655914e-02],\n",
       "       [6.70512673e-04, 2.99708366e-01, 6.99621081e-01],\n",
       "       [3.03942384e-03, 6.15783989e-01, 3.81176591e-01],\n",
       "       [6.52452698e-03, 8.03690135e-01, 1.89785406e-01],\n",
       "       [7.30126118e-03, 8.61852586e-01, 1.30846068e-01],\n",
       "       [5.84239140e-03, 8.45072091e-01, 1.49085626e-01],\n",
       "       [1.41240004e-02, 9.19320464e-01, 6.65554777e-02],\n",
       "       [8.05275608e-03, 8.65695536e-01, 1.26251727e-01],\n",
       "       [6.39636815e-03, 8.20888281e-01, 1.72715366e-01],\n",
       "       [6.55439356e-03, 8.27593923e-01, 1.65851742e-01],\n",
       "       [1.54563794e-02, 9.36847687e-01, 4.76958677e-02],\n",
       "       [3.71640325e-02, 9.47285712e-01, 1.55502381e-02],\n",
       "       [8.07297695e-03, 8.61195207e-01, 1.30731806e-01],\n",
       "       [1.73704121e-02, 9.35471117e-01, 4.71584313e-02],\n",
       "       [1.12956204e-02, 9.02512848e-01, 8.61914605e-02],\n",
       "       [1.36304973e-02, 9.29592788e-01, 5.67767359e-02],\n",
       "       [6.65475130e-02, 9.26236570e-01, 7.21591106e-03],\n",
       "       [1.16938502e-02, 9.08864737e-01, 7.94414282e-02],\n",
       "       [2.32128059e-05, 3.14222313e-02, 9.68554497e-01],\n",
       "       [1.66224287e-04, 1.22665174e-01, 8.77168596e-01],\n",
       "       [1.01022335e-04, 9.08483043e-02, 9.09050703e-01],\n",
       "       [2.01010887e-04, 1.39020726e-01, 8.60778272e-01],\n",
       "       [5.24949210e-05, 5.65722547e-02, 9.43375289e-01],\n",
       "       [5.22364062e-05, 5.84335029e-02, 9.41514313e-01],\n",
       "       [3.50254297e-04, 1.92387074e-01, 8.07262659e-01],\n",
       "       [1.50355394e-04, 1.20434016e-01, 8.79415691e-01],\n",
       "       [1.24084210e-04, 1.07220292e-01, 8.92655611e-01],\n",
       "       [4.73209220e-05, 5.16326986e-02, 9.48319972e-01],\n",
       "       [5.01848815e-04, 2.46487230e-01, 7.53010929e-01],\n",
       "       [2.08906160e-04, 1.47499472e-01, 8.52291644e-01],\n",
       "       [1.55205853e-04, 1.20112196e-01, 8.79732668e-01],\n",
       "       [1.00056553e-04, 8.93531665e-02, 9.10546780e-01],\n",
       "       [4.11735236e-05, 4.81767207e-02, 9.51782107e-01],\n",
       "       [9.96450981e-05, 8.60564113e-02, 9.13843989e-01],\n",
       "       [3.51668190e-04, 2.00273499e-01, 7.99374819e-01],\n",
       "       [8.53292804e-05, 7.69762397e-02, 9.22938466e-01],\n",
       "       [1.88754730e-05, 2.92667150e-02, 9.70714390e-01],\n",
       "       [5.84729249e-04, 2.93013692e-01, 7.06401587e-01],\n",
       "       [7.89371188e-05, 7.50278607e-02, 9.24893260e-01],\n",
       "       [1.59665942e-04, 1.17307976e-01, 8.82532358e-01],\n",
       "       [5.39099128e-05, 6.08426742e-02, 9.39103425e-01],\n",
       "       [6.37984776e-04, 2.98843145e-01, 7.00518906e-01],\n",
       "       [1.43646423e-04, 1.09507620e-01, 8.90348792e-01],\n",
       "       [3.65540414e-04, 2.09221750e-01, 7.90412664e-01],\n",
       "       [8.27243610e-04, 3.42321992e-01, 6.56850874e-01],\n",
       "       [8.16936896e-04, 3.28802109e-01, 6.70381010e-01],\n",
       "       [7.07661020e-05, 7.04508126e-02, 9.29478467e-01],\n",
       "       [9.23077809e-04, 3.78152013e-01, 6.20924950e-01],\n",
       "       [1.47797313e-04, 1.21374883e-01, 8.78477335e-01],\n",
       "       [3.86179716e-04, 2.12375641e-01, 7.87238121e-01],\n",
       "       [5.32054037e-05, 5.80864549e-02, 9.41860259e-01],\n",
       "       [1.63273467e-03, 4.98228014e-01, 5.00139296e-01],\n",
       "       [5.11831662e-04, 2.57699519e-01, 7.41788626e-01],\n",
       "       [6.75611809e-05, 7.10882470e-02, 9.28844154e-01],\n",
       "       [5.27917437e-05, 5.46443686e-02, 9.45302844e-01],\n",
       "       [3.66720429e-04, 2.02049792e-01, 7.97583461e-01],\n",
       "       [9.09744063e-04, 3.47793758e-01, 6.51296496e-01],\n",
       "       [2.40773297e-04, 1.60094351e-01, 8.39664876e-01],\n",
       "       [5.26239928e-05, 5.71036227e-02, 9.42843735e-01],\n",
       "       [2.10597544e-04, 1.48291156e-01, 8.51498246e-01],\n",
       "       [1.66224287e-04, 1.22665174e-01, 8.77168596e-01],\n",
       "       [5.32175218e-05, 5.68679869e-02, 9.43078816e-01],\n",
       "       [4.27487721e-05, 4.86590154e-02, 9.51298237e-01],\n",
       "       [1.23644742e-04, 1.03671759e-01, 8.96204650e-01],\n",
       "       [2.59535533e-04, 1.73978359e-01, 8.25762093e-01],\n",
       "       [2.98102037e-04, 1.81383699e-01, 8.18318129e-01],\n",
       "       [8.98431172e-05, 7.77138546e-02, 9.22196269e-01],\n",
       "       [4.22082259e-04, 2.16743797e-01, 7.82834172e-01]], dtype=float32)"
      ]
     },
     "execution_count": 2,
     "metadata": {},
     "output_type": "execute_result"
    }
   ],
   "source": [
    "model.predict(X)"
   ]
  },
  {
   "cell_type": "code",
   "execution_count": 4,
   "metadata": {
    "collapsed": false
   },
   "outputs": [
    {
     "data": {
      "text/plain": [
       "array(['setosa', 'setosa', 'setosa', 'setosa', 'setosa', 'setosa',\n",
       "       'setosa', 'setosa', 'setosa', 'setosa', 'setosa', 'setosa',\n",
       "       'setosa', 'setosa', 'setosa', 'setosa', 'setosa', 'setosa',\n",
       "       'setosa', 'setosa', 'setosa', 'setosa', 'setosa', 'setosa',\n",
       "       'setosa', 'setosa', 'setosa', 'setosa', 'setosa', 'setosa',\n",
       "       'setosa', 'setosa', 'setosa', 'setosa', 'setosa', 'setosa',\n",
       "       'setosa', 'setosa', 'setosa', 'setosa', 'setosa', 'setosa',\n",
       "       'setosa', 'setosa', 'setosa', 'setosa', 'setosa', 'setosa',\n",
       "       'setosa', 'setosa', 'versicolor', 'versicolor', 'versicolor',\n",
       "       'versicolor', 'versicolor', 'versicolor', 'versicolor',\n",
       "       'versicolor', 'versicolor', 'versicolor', 'versicolor',\n",
       "       'versicolor', 'versicolor', 'versicolor', 'versicolor',\n",
       "       'versicolor', 'versicolor', 'versicolor', 'versicolor',\n",
       "       'versicolor', 'versicolor', 'versicolor', 'versicolor',\n",
       "       'versicolor', 'versicolor', 'versicolor', 'versicolor',\n",
       "       'versicolor', 'versicolor', 'versicolor', 'versicolor',\n",
       "       'versicolor', 'versicolor', 'versicolor', 'versicolor',\n",
       "       'versicolor', 'versicolor', 'versicolor', 'versicolor',\n",
       "       'versicolor', 'versicolor', 'versicolor', 'versicolor',\n",
       "       'versicolor', 'versicolor', 'versicolor', 'versicolor',\n",
       "       'versicolor', 'versicolor', 'versicolor', 'virginica', 'virginica',\n",
       "       'virginica', 'virginica', 'virginica', 'virginica', 'virginica',\n",
       "       'virginica', 'virginica', 'virginica', 'virginica', 'virginica',\n",
       "       'virginica', 'virginica', 'virginica', 'virginica', 'virginica',\n",
       "       'virginica', 'virginica', 'virginica', 'virginica', 'virginica',\n",
       "       'virginica', 'virginica', 'virginica', 'virginica', 'virginica',\n",
       "       'virginica', 'virginica', 'virginica', 'virginica', 'virginica',\n",
       "       'virginica', 'virginica', 'virginica', 'virginica', 'virginica',\n",
       "       'virginica', 'virginica', 'virginica', 'virginica', 'virginica',\n",
       "       'virginica', 'virginica', 'virginica', 'virginica', 'virginica',\n",
       "       'virginica', 'virginica', 'virginica'], dtype=object)"
      ]
     },
     "execution_count": 4,
     "metadata": {},
     "output_type": "execute_result"
    }
   ],
   "source": [
    "y"
   ]
  },
  {
   "cell_type": "code",
   "execution_count": null,
   "metadata": {
    "collapsed": true
   },
   "outputs": [],
   "source": []
  }
 ],
 "metadata": {
  "kernelspec": {
   "display_name": "Python 3",
   "language": "python",
   "name": "python3"
  },
  "language_info": {
   "codemirror_mode": {
    "name": "ipython",
    "version": 3
   },
   "file_extension": ".py",
   "mimetype": "text/x-python",
   "name": "python",
   "nbconvert_exporter": "python",
   "pygments_lexer": "ipython3",
   "version": "3.4.3"
  }
 },
 "nbformat": 4,
 "nbformat_minor": 0
}
