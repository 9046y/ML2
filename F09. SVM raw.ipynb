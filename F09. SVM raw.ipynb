{
 "cells": [
  {
   "cell_type": "raw",
   "metadata": {},
   "source": [
    "\n",
    "Because calculus is natural to us from school but quadratic programs are not. \n",
    "\n",
    "Since all linear functions are convex, linear programming problems are intrinsically easier to solve than general nonlinear (NLP) problems, which may be non-convex. In a non-convex NLP there may be more than one feasible region and the optimal solution might be found at any point within any such region. I\n",
    "\n",
    "Linear Programming (LP) Problems\n",
    "A linear programming (LP) problem is one in which the objective and all of the constraints are linear functions of the decision variables.  An example of a linear function is:\n",
    "\n",
    "        75 X1 + 50 X2 + 35 X3\n",
    "\n",
    "...where X1, X2 and X3 are decision variables.  The variables are multiplied by coefficients (75, 50 and 35 above) that are constant in the optimization problem; they can be computed by your Excel worksheet or custom program\n",
    "\n",
    "The Standard Form of a Quadratic Equation looks like this:\n",
    "Quadratic Equation: ax^2 + bx + c = 0 \n",
    "a, b and c are known values. a can't be 0.\n",
    "\n",
    "QP problems, like LP problems, have only one feasible region with \"flat faces\" on its surface (due to the linear constraints), but the optimal solution may be found anywhere within the region or on its surface.  The quadratic objective function may be convex -- which makes the problem easy to solve -- or non-convex, which makes it very difficult to solve.\n",
    "\n",
    "The name Quadratic comes from \"quad\" meaning square, because the variable gets squared (like x2).\n",
    "\n",
    "It is also called an \"Equation of Degree 2\" (because of the \"2\" on the x)\n"
   ]
  },
  {
   "cell_type": "code",
   "execution_count": 2,
   "metadata": {
    "collapsed": true
   },
   "outputs": [],
   "source": [
    "import numpy as np\n",
    "import matplotlib.pyplot as plt\n",
    "%matplotlib inline  \n",
    "np.random.seed(6)\n",
    "import math"
   ]
  },
  {
   "cell_type": "code",
   "execution_count": 25,
   "metadata": {
    "collapsed": false
   },
   "outputs": [
    {
     "data": {
      "image/png": "[encoded data removed]",
      "text/plain": [
       "<matplotlib.figure.Figure at 0x7f9865782048>"
      ]
     },
     "metadata": {},
     "output_type": "display_data"
    }
   ],
   "source": [
    "from sklearn.datasets.samples_generator import make_blobs\n",
    "\n",
    "(X,y) =  make_blobs(n_samples=50,n_features=2,centers=2,cluster_std=1.05,random_state=40)\n",
    "#we need to add 1 to X values (we can say its bias)\n",
    "X1 = np.c_[np.ones((X.shape[0])),X]\n",
    "\n",
    "plt.scatter(X1[:,1],X1[:,2],marker='o',c=y)\n",
    "plt.axis([-5,10,-12,-1])\n",
    "plt.show()"
   ]
  },
  {
   "cell_type": "raw",
   "metadata": {},
   "source": [
    "make_blobs makes a number of isotropic Gaussian blobs. It can be viewed as a helper function, which saves you a little code. Nice if you have to demonstrate or test some clustering algorithm, so to avoid to much boilerplate code.\n"
   ]
  },
  {
   "cell_type": "code",
   "execution_count": 4,
   "metadata": {
    "collapsed": true
   },
   "outputs": [],
   "source": [
    "postiveX=[]\n",
    "negativeX=[]\n",
    "for i,v in enumerate(y):\n",
    "    if v==0:\n",
    "        negativeX.append(X[i])\n",
    "    else:\n",
    "        postiveX.append(X[i])\n",
    "\n",
    "#our data dictionary\n",
    "data_dict = {-1:np.array(negativeX), 1:np.array(postiveX)}"
   ]
  },
  {
   "cell_type": "code",
   "execution_count": 6,
   "metadata": {
    "collapsed": true
   },
   "outputs": [],
   "source": [
    "#all the required variables \n",
    "w=[] #weights 2 dimensional vector\n",
    "b=[] #bias\n",
    "\n",
    "max_feature_value=float('-inf')\n",
    "min_feature_value=float('+inf')\n",
    "        \n",
    "for yi in data_dict:\n",
    "    if np.amax(data_dict[yi])>max_feature_value:\n",
    "        max_feature_value=np.amax(data_dict[yi])\n",
    "                \n",
    "    if np.amin(data_dict[yi])<min_feature_value:\n",
    "        min_feature_value=np.amin(data_dict[yi])\n",
    "        \n",
    "learning_rate = [max_feature_value * 0.1, max_feature_value * 0.01, max_feature_value * 0.001,]"
   ]
  },
  {
   "cell_type": "code",
   "execution_count": 19,
   "metadata": {
    "collapsed": true
   },
   "outputs": [],
   "source": [
    "def SVM_Training(data_dict):\n",
    "    i=1\n",
    "    global w\n",
    "    global b\n",
    "    # { ||w||: [w,b] }\n",
    "    length_Wvector = {}\n",
    "    transforms = [[1,1],[-1,1],[-1,-1],[1,-1]]\n",
    "    \n",
    "    b_step_size = 2\n",
    "    b_multiple = 5\n",
    "    w_optimum = max_feature_value*0.5\n",
    "\n",
    "    for lrate in learning_rate:\n",
    "        \n",
    "        w = np.array([w_optimum,w_optimum])     \n",
    "        optimized = False\n",
    "        while not optimized:\n",
    "            #b=[-maxvalue to maxvalue] we wanna maximize the b values so check for every b value\n",
    "            for b in np.arange(-1*(max_feature_value*b_step_size), max_feature_value*b_step_size, lrate*b_multiple):\n",
    "                for transformation in transforms:  # transforms = [[1,1],[-1,1],[-1,-1],[1,-1]]\n",
    "                    w_t = w*transformation\n",
    "                    \n",
    "                    correctly_classified = True\n",
    "                    \n",
    "                    # every data point should be correct\n",
    "                    for yi in data_dict:\n",
    "                        for xi in data_dict[yi]:\n",
    "                            if yi*(np.dot(w_t,xi)+b) < 1:  # we want  yi*(np.dot(w_t,xi)+b) >= 1 for correct classification\n",
    "                                correctly_classified = False\n",
    "                                \n",
    "                    if correctly_classified:\n",
    "                        length_Wvector[np.linalg.norm(w_t)] = [w_t,b] #store w, b for minimum magnitude\n",
    "            \n",
    "            if w[0] < 0:\n",
    "                optimized = True\n",
    "            else:\n",
    "                w = w - lrate\n",
    "\n",
    "        norms = sorted([n for n in length_Wvector])\n",
    "        \n",
    "        minimum_wlength = length_Wvector[norms[0]]\n",
    "        w = minimum_wlength[0]\n",
    "        b = minimum_wlength[1]\n",
    "        \n",
    "        w_optimum = w[0]+lrate*2"
   ]
  },
  {
   "cell_type": "code",
   "execution_count": 20,
   "metadata": {
    "collapsed": true
   },
   "outputs": [],
   "source": [
    "SVM_Training(data_dict)"
   ]
  },
  {
   "cell_type": "code",
   "execution_count": 21,
   "metadata": {
    "collapsed": false
   },
   "outputs": [
    {
     "data": {
      "image/png": "[encoded data removed]",
      "text/plain": [
       "<matplotlib.figure.Figure at 0x7f9865914780>"
      ]
     },
     "metadata": {},
     "output_type": "display_data"
    }
   ],
   "source": [
    "colors = {1:'r',-1:'b'}\n",
    "fig = plt.figure()\n",
    "ax = fig.add_subplot(1,1,1)"
   ]
  },
  {
   "cell_type": "code",
   "execution_count": 22,
   "metadata": {
    "collapsed": true
   },
   "outputs": [],
   "source": [
    "def visualize(data_dict):\n",
    "       \n",
    "        \n",
    "        #[[ax.scatter(x[0],x[1],s=100,color=colors[i]) for x in data_dict[i]] for i in data_dict]\n",
    "        \n",
    "        plt.scatter(X1[:,1],X1[:,2],marker='o',c=y)\n",
    "\n",
    "        # hyperplane = x.w+b\n",
    "        # v = x.w+b\n",
    "        # psv = 1\n",
    "        # nsv = -1\n",
    "        # dec = 0\n",
    "        def hyperplane_value(x,w,b,v):\n",
    "            return (-w[0]*x-b+v) / w[1]\n",
    "\n",
    "        datarange = (min_feature_value*0.9,max_feature_value*1.)\n",
    "        hyp_x_min = datarange[0]\n",
    "        hyp_x_max = datarange[1]\n",
    "\n",
    "        # (w.x+b) = 1\n",
    "        # positive support vector hyperplane\n",
    "        psv1 = hyperplane_value(hyp_x_min, w, b, 1)\n",
    "        psv2 = hyperplane_value(hyp_x_max, w, b, 1)\n",
    "        ax.plot([hyp_x_min,hyp_x_max],[psv1,psv2], 'k')\n",
    "\n",
    "        # (w.x+b) = -1\n",
    "        # negative support vector hyperplane\n",
    "        nsv1 = hyperplane_value(hyp_x_min, w, b, -1)\n",
    "        nsv2 = hyperplane_value(hyp_x_max, w, b, -1)\n",
    "        ax.plot([hyp_x_min,hyp_x_max],[nsv1,nsv2], 'k')\n",
    "\n",
    "        # (w.x+b) = 0\n",
    "        # positive support vector hyperplane\n",
    "        db1 = hyperplane_value(hyp_x_min, w, b, 0)\n",
    "        db2 = hyperplane_value(hyp_x_max, w, b, 0)\n",
    "        ax.plot([hyp_x_min,hyp_x_max],[db1,db2], 'y--')\n",
    "        \n",
    "        plt.axis([-5,10,-12,-1])\n",
    "        plt.show()"
   ]
  },
  {
   "cell_type": "code",
   "execution_count": 23,
   "metadata": {
    "collapsed": false
   },
   "outputs": [
    {
     "data": {
      "image/png": "[encoded data removed]",
      "text/plain": [
       "<matplotlib.figure.Figure at 0x7f98658a7048>"
      ]
     },
     "metadata": {},
     "output_type": "display_data"
    }
   ],
   "source": [
    "visualize(data_dict)"
   ]
  },
  {
   "cell_type": "code",
   "execution_count": 12,
   "metadata": {
    "collapsed": false
   },
   "outputs": [
    {
     "name": "stdout",
     "output_type": "stream",
     "text": [
      "1,  1,  -1,  1,  -1,  "
     ]
    }
   ],
   "source": [
    "def predict(features):\n",
    "        # sign( x.w+b )\n",
    "        dot_result = np.sign(np.dot(np.array(features),w)+b)\n",
    "        return dot_result.astype(int)\n",
    "    \n",
    "for i in X[:5]:\n",
    "    print(predict(i),end=',  ')"
   ]
  },
  {
   "cell_type": "code",
   "execution_count": 13,
   "metadata": {
    "collapsed": false
   },
   "outputs": [
    {
     "data": {
      "text/plain": [
       "array([ 1,  1, -1,  1, -1, -1,  1, -1,  1, -1,  1,  1, -1,  1,  1,  1,  1,\n",
       "        1,  1,  1, -1, -1, -1, -1, -1, -1, -1, -1, -1, -1,  1,  1, -1, -1,\n",
       "        1, -1,  1, -1,  1,  1, -1, -1,  1,  1,  1, -1, -1,  1,  1, -1])"
      ]
     },
     "execution_count": 13,
     "metadata": {},
     "output_type": "execute_result"
    }
   ],
   "source": [
    "l=[]\n",
    "for xi in X:\n",
    "    \n",
    "    l.append(predict(xi[:6]))\n",
    "l=np.array(l).astype(int)\n",
    "l"
   ]
  },
  {
   "cell_type": "code",
   "execution_count": 16,
   "metadata": {
    "collapsed": false
   },
   "outputs": [
    {
     "data": {
      "text/plain": [
       "array([-1.8171622 , -9.22909875])"
      ]
     },
     "execution_count": 16,
     "metadata": {},
     "output_type": "execute_result"
    }
   ],
   "source": [
    "X[4]"
   ]
  },
  {
   "cell_type": "code",
   "execution_count": 17,
   "metadata": {
    "collapsed": false
   },
   "outputs": [
    {
     "data": {
      "text/plain": [
       "array([ 1,  1, -1,  1, -1, -1,  1, -1,  1, -1,  1,  1, -1,  1,  1,  1,  1,\n",
       "        1,  1,  1, -1, -1, -1, -1, -1, -1, -1, -1, -1, -1,  1,  1, -1, -1,\n",
       "        1, -1,  1, -1,  1,  1, -1, -1,  1,  1,  1, -1, -1,  1,  1, -1])"
      ]
     },
     "execution_count": 17,
     "metadata": {},
     "output_type": "execute_result"
    }
   ],
   "source": [
    "for i, v in enumerate(y):\n",
    "    if v==0:\n",
    "        y[i]=-1\n",
    "y"
   ]
  },
  {
   "cell_type": "code",
   "execution_count": 18,
   "metadata": {
    "collapsed": false
   },
   "outputs": [
    {
     "data": {
      "text/plain": [
       "0"
      ]
     },
     "execution_count": 18,
     "metadata": {},
     "output_type": "execute_result"
    }
   ],
   "source": [
    "error = sum((l-y)**2)\n",
    "error"
   ]
  },
  {
   "cell_type": "code",
   "execution_count": null,
   "metadata": {
    "collapsed": true
   },
   "outputs": [],
   "source": []
  }
 ],
 "metadata": {
  "kernelspec": {
   "display_name": "Python 3",
   "language": "python",
   "name": "python3"
  },
  "language_info": {
   "codemirror_mode": {
    "name": "ipython",
    "version": 3
   },
   "file_extension": ".py",
   "mimetype": "text/x-python",
   "name": "python",
   "nbconvert_exporter": "python",
   "pygments_lexer": "ipython3",
   "version": "3.4.3"
  }
 },
 "nbformat": 4,
 "nbformat_minor": 0
}
