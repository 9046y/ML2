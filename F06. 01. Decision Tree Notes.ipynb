{
 "cells": [
  {
   "cell_type": "raw",
   "metadata": {},
   "source": [
    "\n",
    "Flow\n",
    "------\n",
    "1.Input data split based on lowest gini score of all possible split points on all features\n",
    "2.Two datasets are created based on the split above\n",
    "3.Again, each new dataset is split based on lowest gini score of all possible\n",
    "4.Split points on all features\n",
    "5.Again, two datasets from each node are created\n",
    "6.And so on, until leaf nodes are created by either max depth or min number of samples criteria\n",
    "\n",
    "\n",
    "\n",
    "In general, Decision Tree algorithms are referred to as CART or Classification and Regression Trees.\n",
    "\n",
    "In this procedure all the features are considered and different split points are tried and tested using a cost function. The split with the best cost (or lowest cost) is selected.\n",
    "\n",
    "The primary challenge in the decision tree implementation is to identify which attributes do we need to consider as the root node and each level. Handling this is know the attributes selection. \n",
    "\n",
    "The popular attribute selection measures:\n",
    "\t•\tInformation gain\n",
    "\t•\tGini index\n",
    "\n",
    "The decision of making strategic splits heavily affects a tree’s accuracy. The decision criteria is different for classification and regression trees.\n",
    "\n",
    "Decision Tree Algorithm Pseudocode\n",
    "\t1.\tPlace the best attribute of the dataset at the root of the tree.\n",
    "\t2.\tSplit the training set into subsets. Subsets should be made in such a way that each subset contains data with the same value for an attribute.\n",
    "\t3.\tRepeat step 1 and step 2 on each subset until you find leaf nodes in all the branches of the tree.\n",
    "\n",
    " Gini Index\n",
    " -----------\n",
    " A Gini score gives an idea of how good a split is by how mixed the classes are in the two groups created by the split. A perfect separation results in a Gini score of 0, whereas the worst case split that results in 50/50 classes in each group result in a Gini score of 0.5 (for a 2 class problem).\n",
    " \n",
    " "
   ]
  }
 ],
 "metadata": {
  "kernelspec": {
   "display_name": "Python 3",
   "language": "python",
   "name": "python3"
  },
  "language_info": {
   "codemirror_mode": {
    "name": "ipython",
    "version": 3
   },
   "file_extension": ".py",
   "mimetype": "text/x-python",
   "name": "python",
   "nbconvert_exporter": "python",
   "pygments_lexer": "ipython3",
   "version": "3.4.3"
  }
 },
 "nbformat": 4,
 "nbformat_minor": 0
}
