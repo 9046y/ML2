{
 "cells": [
  {
   "cell_type": "raw",
   "metadata": {},
   "source": [
    "Naive Bayes is a collection of classification algorithms based on Bayes Theorem.\n",
    "It is not a single algorithm but a family of algorithms that all share a common principle\n",
    "\n",
    "three popular Naive Bayes algorithms:\n",
    "\t•\tGaussian Naive Bayes,\n",
    "\t•\tMultinomial Naive Bayes.\n",
    "\t•\tBernoulli Naive Bayes.\n",
    "\n",
    "Categorical Inputs: Naive Bayes assumes label attributes such as binary, categorical or nominal.\n",
    "Gaussian Inputs: If the input variables are real-valued, a Gaussian distribution is assumed. In which case the algorithm will perform better if the univariate distributions of your data are Gaussian or near-Gaussian. This may require removing outliers (e.g. values that are more than 3 or 4 standard deviations from the mean).\n"
   ]
  }
 ],
 "metadata": {
  "kernelspec": {
   "display_name": "Python 3",
   "language": "python",
   "name": "python3"
  },
  "language_info": {
   "codemirror_mode": {
    "name": "ipython",
    "version": 3
   },
   "file_extension": ".py",
   "mimetype": "text/x-python",
   "name": "python",
   "nbconvert_exporter": "python",
   "pygments_lexer": "ipython3",
   "version": "3.4.3"
  }
 },
 "nbformat": 4,
 "nbformat_minor": 0
}
