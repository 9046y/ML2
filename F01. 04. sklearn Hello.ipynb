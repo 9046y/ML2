{
 "cells": [
  {
   "cell_type": "code",
   "execution_count": 2,
   "metadata": {
    "collapsed": false
   },
   "outputs": [
    {
     "name": "stdout",
     "output_type": "stream",
     "text": [
      "1.74956896552\n",
      "prediction 1.749569\n",
      "[[ 13.68103448]]\n",
      "RESIDUAL SUM OF SQUARES (RSS) 1.749569\n",
      "R-squared: 0.6620\n",
      "[ 1.96551724]\n",
      "[[ 0.9762931]]\n"
     ]
    }
   ],
   "source": [
    "from sklearn.linear_model import LinearRegression\n",
    "import matplotlib.pyplot as plt\n",
    "import numpy as np\n",
    "\n",
    "    \n",
    "X = [[6], [8], [10], [14], [18]]\n",
    "y = [[7], [9], [13], [17.5], [18]]\n",
    "\n",
    "model = LinearRegression()\n",
    "model.fit(X, y)\n",
    "\n",
    "\n",
    "cost = np.mean((model.predict(X) - y) ** 2)\n",
    "print ('prediction %f' % cost)\n",
    "res = model.predict([12][0])\n",
    "print(res)\n",
    "\n",
    "print ('RESIDUAL SUM OF SQUARES (RSS) %f' % cost)\n",
    "X_test = [[8], [9], [11], [16], [12]]\n",
    "y_test = [[11], [8.5], [15], [18], [11]]   \n",
    "score = model.score(X_test,y_test)\n",
    "\n",
    "print ('R-squared: %.4f' % score)\n",
    "print (model.intercept_)\n",
    "print (model.coef_)\n"
   ]
  },
  {
   "cell_type": "code",
   "execution_count": null,
   "metadata": {
    "collapsed": true
   },
   "outputs": [],
   "source": []
  }
 ],
 "metadata": {
  "kernelspec": {
   "display_name": "Python 3",
   "language": "python",
   "name": "python3"
  },
  "language_info": {
   "codemirror_mode": {
    "name": "ipython",
    "version": 3
   },
   "file_extension": ".py",
   "mimetype": "text/x-python",
   "name": "python",
   "nbconvert_exporter": "python",
   "pygments_lexer": "ipython3",
   "version": "3.4.3"
  }
 },
 "nbformat": 4,
 "nbformat_minor": 2
}
