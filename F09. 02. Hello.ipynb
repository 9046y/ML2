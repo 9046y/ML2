{
 "cells": [
  {
   "cell_type": "code",
   "execution_count": 2,
   "metadata": {
    "collapsed": false
   },
   "outputs": [
    {
     "name": "stdout",
     "output_type": "stream",
     "text": [
      "Python: 3.4.3 (default, Oct 14 2015, 20:28:29) \n",
      "[GCC 4.8.4]\n",
      "[-1]\n"
     ]
    }
   ],
   "source": [
    "import sys\n",
    "# Python version\n",
    "print('Python: {}'.format(sys.version))\n",
    "\n",
    "sys.path.append('/System/Library/Frameworks/Python.framework/Versions/2.7/Extras/lib/python/')\n",
    "sys.path.append('/Library/Python/2.7/site-packages/')\n",
    "\n",
    "import numpy as np\n",
    "from sklearn import svm\n",
    "\n",
    "\n",
    "X = np.array([[2.327868056,2.458016525],[\n",
    "3.032830419,3.170770366],[\n",
    "4.485465382,3.696728111],[\n",
    "3.684815246,3.846846973],[\n",
    "2.283558563,1.853215997],[\n",
    "7.807521179,3.290132136],[\n",
    "6.132998136,2.140563087],[\n",
    "7.514829366,2.107056961],[\n",
    "5.502385039,1.404002608],[\n",
    "7.432932365,4.236232628]])\n",
    "\n",
    "Y = [-1,-1,-1,-1,-1,1,1,1,1,1]\n",
    "clf = svm.SVC(kernel='linear', C = 1.0)\n",
    "clf.fit(X,Y)\n",
    "print (clf.predict([[3.502385039,0.404002608]]))"
   ]
  },
  {
   "cell_type": "code",
   "execution_count": null,
   "metadata": {
    "collapsed": true
   },
   "outputs": [],
   "source": []
  }
 ],
 "metadata": {
  "kernelspec": {
   "display_name": "Python 3",
   "language": "python",
   "name": "python3"
  },
  "language_info": {
   "codemirror_mode": {
    "name": "ipython",
    "version": 3
   },
   "file_extension": ".py",
   "mimetype": "text/x-python",
   "name": "python",
   "nbconvert_exporter": "python",
   "pygments_lexer": "ipython3",
   "version": "3.4.3"
  }
 },
 "nbformat": 4,
 "nbformat_minor": 0
}
