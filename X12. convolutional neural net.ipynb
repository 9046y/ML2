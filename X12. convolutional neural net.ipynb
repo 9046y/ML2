{
 "cells": [
  {
   "cell_type": "raw",
   "metadata": {},
   "source": [
    "The fundamental difference between fully connected and convolutional neural net‐ works is the pattern of connections between consecutive layers. In the fully connected case, as the name might suggest, each unit is connected to all of the units in the previ‐ ous layer.  In a convolutional layer (right), each unit is connected to a constant num‐ ber of units in a local region of the previous layer. Furthermore, in a convolutional layer, the units all share the weights for these connections"
   ]
  }
 ],
 "metadata": {
  "kernelspec": {
   "display_name": "Python 3",
   "language": "python",
   "name": "python3"
  },
  "language_info": {
   "codemirror_mode": {
    "name": "ipython",
    "version": 3
   },
   "file_extension": ".py",
   "mimetype": "text/x-python",
   "name": "python",
   "nbconvert_exporter": "python",
   "pygments_lexer": "ipython3",
   "version": "3.4.3"
  }
 },
 "nbformat": 4,
 "nbformat_minor": 0
}
