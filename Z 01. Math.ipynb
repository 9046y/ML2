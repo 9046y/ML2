{
 "cells": [
  {
   "cell_type": "raw",
   "metadata": {},
   "source": [
    "https://www.youtube.com/watch?v=kYB8IZa5AuE\n",
    "    \n",
    "https://www.youtube.com/watch?v=PFDu9oVAE-g\n",
    "3 blue 1 brown\n",
    "\n",
    "\n",
    "\n",
    "Lineaar transformations\n",
    "Determinants\n",
    "Linear Systems\n",
    "change of basis\n",
    "\n",
    "Variance\n",
    "CoVariance\n",
    "Variance-COvAriance Matrix\n",
    "Eigen Vector & Eigen Value\n"
   ]
  }
 ],
 "metadata": {
  "kernelspec": {
   "display_name": "Python 3",
   "language": "python",
   "name": "python3"
  },
  "language_info": {
   "codemirror_mode": {
    "name": "ipython",
    "version": 3
   },
   "file_extension": ".py",
   "mimetype": "text/x-python",
   "name": "python",
   "nbconvert_exporter": "python",
   "pygments_lexer": "ipython3",
   "version": "3.4.3"
  }
 },
 "nbformat": 4,
 "nbformat_minor": 0
}
