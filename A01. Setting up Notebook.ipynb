{
 "cells": [
  {
   "cell_type": "raw",
   "metadata": {},
   "source": [
    "docker run -d -p 8888:8888 -v /Users/Mubarak/Documents/deck/AI/ml_demos:/home/ds/notebooks dataquestio/python3-starter\n",
    "\n",
    "http://localhost:8888\n",
    "\n",
    "Installing more packages\n",
    "-------------------------\n",
    "docker exec -it CONTAINER_ID /bin/bash\n",
    "pip install PACKAGE_NAME\n",
    "pip install -U scikit-learn\n",
    "pip install -U scipy\n",
    "\n",
    "shutting down your docker container\n",
    "-------------------------\n",
    "docker stop CONTAINER_ID\n",
    "\n",
    "start container\n",
    "-------------------------\n",
    "docker start CONTAINER_ID\n",
    "\n",
    "remove container\n",
    "-------------------------\n",
    "docker rm -f CONTAINER_ID\n",
    "\n",
    "matplot\n",
    "-------------------------\n",
    "import matplotlib.pyplot as plt\n",
    "%matplotlib inline  \n",
    "\n",
    "Setting up path\n",
    "-------------------------\n",
    "import sys\n",
    "# Python version\n",
    "print('Python: {}'.format(sys.version))\n",
    "\n",
    "sys.path.append('/System/Library/Frameworks/Python.framework/Versions/2.7/Extras/lib/python/')\n",
    "sys.path.append('/Library/Python/2.7/site-packages/')\n",
    "\n",
    "\n",
    "misc\n",
    "----------------------\n",
    "from subprocess import check_output\n",
    "print(check_output([\"ls\", \"./data\"]))\n"
   ]
  }
 ],
 "metadata": {
  "kernelspec": {
   "display_name": "Python 3",
   "language": "python",
   "name": "python3"
  },
  "language_info": {
   "codemirror_mode": {
    "name": "ipython",
    "version": 3
   },
   "file_extension": ".py",
   "mimetype": "text/x-python",
   "name": "python",
   "nbconvert_exporter": "python",
   "pygments_lexer": "ipython3",
   "version": "3.4.3"
  }
 },
 "nbformat": 4,
 "nbformat_minor": 0
}
