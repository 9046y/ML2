{
 "cells": [
  {
   "cell_type": "raw",
   "metadata": {},
   "source": [
    "Student = 30\n",
    "Play Cricket = 15 (50%)\n",
    "----------------------------\n",
    "split on Gender:\n",
    "-->Male\n",
    "    Student = 10\n",
    "    Play Cricket = 2 (20%)\n",
    "-->Female\n",
    "    Student = 20\n",
    "    Play Cricket = 13 (65%)\n",
    "\n",
    "\t1.\tCalculate, Gini for sub-node Female = (0.2)*(0.2)+(0.8)*(0.8)=0.68\n",
    "\t2.\tGini for sub-node Male = (0.65)*(0.65)+(0.35)*(0.35)=0.55\n",
    "\t3.\tCalculate weighted Gini for Split Gender = (10/30)*0.68+(20/30)*0.55 = 0.59\n",
    "\n",
    "-----------------------------   \n",
    "Similar for Split on Class:\n",
    "-->Class IX\n",
    "    Student = 14\n",
    "    Play Cricket = 6 (43%)\n",
    "-->Class X\n",
    "    Student = 16\n",
    "    Play Cricket = 9 (56%)\n",
    "\n",
    "\t1.\tGini for sub-node Class IX = (0.43)*(0.43)+(0.57)*(0.57)=0.51\n",
    "\t2.\tGini for sub-node Class X = (0.56)*(0.56)+(0.44)*(0.44)=0.51\n",
    "\t3.\tCalculate weighted Gini for Split Class = (14/30)*0.51+(16/30)*0.51 = 0.51\n",
    "\n",
    "Above, you can see that Gini score for Split on Gender is higher than Split on Class, hence, the node split will take place on Gender.\n",
    "\n",
    "\n",
    "[\"color\", \"diameter\", \"label\"]\n",
    "------------------------------\n",
    "['Green', 3, 'Apple'],\n",
    "['Yellow', 3, 'Apple'],\n",
    "['Red', 1, 'Grape'],\n",
    "['Red', 1, 'Grape'],\n",
    "['Yellow', 3, 'Lemon']\n",
    "\n",
    "Is diameter >= 3?\n",
    "--> True:\n",
    "  Is color == Yellow?\n",
    "  --> True:\n",
    "    Predict {'Lemon': 1, 'Apple': 1}\n",
    "  --> False:\n",
    "    Predict {'Apple': 1}\n",
    "--> False:\n",
    "  Predict {'Grape': 2}"
   ]
  }
 ],
 "metadata": {
  "kernelspec": {
   "display_name": "Python 3",
   "language": "python",
   "name": "python3"
  },
  "language_info": {
   "codemirror_mode": {
    "name": "ipython",
    "version": 3
   },
   "file_extension": ".py",
   "mimetype": "text/x-python",
   "name": "python",
   "nbconvert_exporter": "python",
   "pygments_lexer": "ipython3",
   "version": "3.4.3"
  }
 },
 "nbformat": 4,
 "nbformat_minor": 0
}
