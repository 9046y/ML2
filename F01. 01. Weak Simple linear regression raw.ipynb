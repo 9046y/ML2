{
 "cells": [
  {
   "cell_type": "code",
   "execution_count": null,
   "metadata": {
    "collapsed": true
   },
   "outputs": [],
   "source": [
    "    ** *\n",
    "   * *\n",
    "* *\n",
    "\n",
    "size in feet     price\n",
    "900              30,00,000\n",
    "1200             33,00,000\n",
    "1500             40,00,000\n",
    "1700             60,00,000\n",
    "1250             63,00,000\n",
    "\n",
    "normalized data\n",
    "size in feet     price\n",
    "9              3.0\n",
    "12             3.3\n",
    "15             4.0\n",
    "17             6.0\n",
    "12.5           6.3\n",
    "\n",
    "cost function\n",
    "----------------\n",
    "We need a function that will minimize the parameters over our dataset. One common function that is often used is mean squared error,\n",
    "which measure the difference between the estimator (the dataset) and the estimated value (the prediction).\n",
    "\n",
    "cost = 1/2m * sum(predicted - actual)^2\n",
    "\n",
    "* We also divide the expression by 2 to make derivative calculations simpler.\n",
    "* we calculate the square of this error which removes the sign, as this error could be both positive and negative\n",
    "* The  1/m is to \"average\" the squared error over the number of components so that the number of components doesn't affect the function\n",
    "* This 2 which appears in the front is used only for simplification of the derivative, because when you will try to minimize it, \n",
    "you will use the steepest descent method, which is based on the derivative of this function. Derivative of a^2 is 2a, and our \n",
    "function is a square of something, so this 2 will cancel out.\n",
    "\n",
    "\n",
    "Gradient Descentant\n",
    "-------------------\n",
    "Gradient descent enables a model to learn the gradient or direction that the model should take in order to reduce errors\n",
    "(differences between actual y and predicted y). Direction in the simple linear regression example refers to how the model \n",
    "parameters b0 and b1 should be tweaked or corrected to further reduce the cost function.\n",
    "\n",
    "the MSE cost function for a Linear Regression model happens to be a convex function. \n",
    "\n",
    "\n",
    "size     actual price  predicted1=mx+c {c=0, m=1}        predicted2=mx+c {c=0, m=2}\n",
    "------------------------------------------------------------------------------------------------------------------------\n",
    "9         3.0\n",
    "12        3.3\n",
    "15        4.0\n",
    "17        6.0\n",
    "12.5      6.3\n",
    "-----------------------------------------------------------------------------------------------------------------------\n",
    "                    cost1=                              cost2 = \n",
    "\n"
   ]
  }
 ],
 "metadata": {
  "kernelspec": {
   "display_name": "Python 3",
   "language": "python",
   "name": "python3"
  },
  "language_info": {
   "codemirror_mode": {
    "name": "ipython",
    "version": 3
   },
   "file_extension": ".py",
   "mimetype": "text/x-python",
   "name": "python",
   "nbconvert_exporter": "python",
   "pygments_lexer": "ipython3",
   "version": "3.4.3"
  }
 },
 "nbformat": 4,
 "nbformat_minor": 0
}
