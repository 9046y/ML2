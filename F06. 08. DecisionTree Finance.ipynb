{
 "cells": [
  {
   "cell_type": "code",
   "execution_count": 1,
   "metadata": {
    "collapsed": false
   },
   "outputs": [
    {
     "name": "stdout",
     "output_type": "stream",
     "text": [
      "['B']\n"
     ]
    }
   ],
   "source": [
    "from sklearn.linear_model import LinearRegression\n",
    "import matplotlib.pyplot as plt\n",
    "import numpy as np\n",
    "import pandas as pd\n",
    "from sklearn.model_selection import train_test_split\n",
    "from sklearn import tree\n",
    "from sklearn.tree import DecisionTreeClassifier\n",
    "from sklearn.metrics import accuracy_score\n",
    "from sklearn.metrics import accuracy_score\n",
    "\n",
    "binary= pd.read_csv('data/NonLinearRegression/dt_data.csv')\n",
    "binary.describe()\n",
    "\n",
    "binary.drop('Unnamed: 3', axis=1, inplace=True)\n",
    "binary.Spend_Drop_over50pct.replace([0, 1], ['A', 'B'], inplace=True)\n",
    "\n",
    "binary.head()\n",
    "# Count Target Variable Values\n",
    "binary.Spend_Drop_over50pct.value_counts()\n",
    "\n",
    "Train,Test = train_test_split(binary, test_size = 0.3, random_state = 176)\n",
    "# Print a few rows\n",
    "Train.head()\n",
    "\n",
    "# Keep Target and Independent Variable into different array\n",
    "Train_IndepentVars = Train.values[:, 3:5]\n",
    "Train_TargetVar = Train.values[:,5]\n",
    "\n",
    "# Building Decision Tree - CART Algorithm (gini criteria)\n",
    "dt_train_gini = DecisionTreeClassifier(criterion = \"gini\", random_state = 100,\n",
    "                               max_depth=5, min_samples_leaf=5)\n",
    "\n",
    "# Train\n",
    "dt_train_gini.fit(Train_IndepentVars, Train_TargetVar)\n",
    "\n",
    "Test_IndepentVars = Test.values[:, 3:5]\n",
    "Test_TargetVar = Test.values[:,5]\n",
    "\n",
    "Test_predict = dt_train_gini.predict(Test_IndepentVars)\n",
    "accuracy_score(Test_TargetVar, Test_predict)\n",
    "print (dt_train_gini.predict([[53,6]]))\n",
    "\n",
    "'''\n",
    "pd.DataFrame(\n",
    "    confusion_matrix(Test_TargetVar, Test_predict),\n",
    "    columns=['Predicted Not Survival', 'Predicted Survival'],\n",
    "    index=['True Not Survival', 'True Survival']\n",
    ")\n",
    "'''\n",
    "#We can copy the context of this text file and put into the box on http://www.webgraphviz.com/\n",
    "with open(\"dt_train_gini.txt\", \"w\") as f:\n",
    "    f = tree.export_graphviz(dt_train_gini, out_file=f)\n",
    "    "
   ]
  },
  {
   "cell_type": "code",
   "execution_count": null,
   "metadata": {
    "collapsed": true
   },
   "outputs": [],
   "source": []
  }
 ],
 "metadata": {
  "kernelspec": {
   "display_name": "Python 3",
   "language": "python",
   "name": "python3"
  },
  "language_info": {
   "codemirror_mode": {
    "name": "ipython",
    "version": 3
   },
   "file_extension": ".py",
   "mimetype": "text/x-python",
   "name": "python",
   "nbconvert_exporter": "python",
   "pygments_lexer": "ipython3",
   "version": "3.4.3"
  }
 },
 "nbformat": 4,
 "nbformat_minor": 2
}
