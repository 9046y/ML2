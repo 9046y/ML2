{
 "cells": [
  {
   "cell_type": "code",
   "execution_count": 2,
   "metadata": {
    "collapsed": false
   },
   "outputs": [
    {
     "name": "stdout",
     "output_type": "stream",
     "text": [
      "sklearn: 0.19.1\n",
      "(456, 13)\n",
      "(50, 13)\n",
      "(456,)\n",
      "(50,)\n",
      "(339, 13)\n",
      "(167, 13)\n",
      "(339,)\n",
      "(167,)\n",
      "Fit a model X_train, and calculate MSE with Y_train: 19.546758\n",
      "Fit a model X_train, and calculate MSE with X_test, Y_test: 28.541367\n"
     ]
    },
    {
     "data": {
      "image/png": "[encoded data removed]",
      "text/plain": [
       "<matplotlib.figure.Figure at 0x7fca481d5cf8>"
      ]
     },
     "metadata": {},
     "output_type": "display_data"
    }
   ],
   "source": [
    "from sklearn.linear_model import LinearRegression\n",
    "import matplotlib.pyplot as plt\n",
    "%matplotlib inline\n",
    "import numpy as np\n",
    "import pandas as pd\n",
    "import scipy.stats as stats\n",
    "from sklearn.datasets import load_boston\n",
    "import sklearn as sklearn\n",
    "print('sklearn: {}'.format(sklearn.__version__))\n",
    "\n",
    "\n",
    "boston = load_boston()\n",
    "boston.keys()\n",
    "boston.data.shape\n",
    "\n",
    "boston.feature_names\n",
    "boston.DESCR\n",
    "\n",
    "#convert boston.data into a pandas data frame.\n",
    "bos = pd.DataFrame(boston.data)\n",
    "bos.head()\n",
    "\n",
    "# column names are just numbers, so I am going to replace those numbers with the feature names\n",
    "bos.columns = boston.feature_names\n",
    "bos.head()\n",
    "#boston.target contains the housing prices.\n",
    "boston.target[:5]\n",
    "#add these target prices to the bos data frame\n",
    "bos['PRICE'] = boston.target\n",
    "\n",
    "# X = all the other features (or independent variables)\n",
    "# drop the price column as I want only the parameters as my X values.\n",
    "X = bos.drop('PRICE',axis=1)\n",
    "Y = bos.PRICE\n",
    "\n",
    "X_train=X[:-50]\n",
    "X_test=X[-50:]\n",
    "Y_train=Y[:-50]\n",
    "Y_test=Y[-50:]\n",
    "\n",
    "print (X_train.shape)\n",
    "print (X_test.shape)\n",
    "print (Y_train.shape)\n",
    "print (Y_test.shape)\n",
    "\n",
    "#you may be training your model on less expensive houses and testing on expensive houses.\n",
    "#You have to divide your data sets randomly. Scikit learn provides a function called train_test_split to do this.\n",
    "\n",
    "X_train,X_test, Y_train,Y_test = sklearn.model_selection.train_test_split(X, Y, test_size = 0.33,random_state=5)\n",
    "print (X_train.shape)\n",
    "print (X_test.shape)\n",
    "print (Y_train.shape)\n",
    "print (Y_test.shape)\n",
    "\n",
    "lm= LinearRegression()\n",
    "lm.fit(X_train,Y_train)\n",
    "\n",
    "lm.intercept_\n",
    "lm.coef_\n",
    "\n",
    "pred_train = lm.predict(X_train)\n",
    "pred_test = lm.predict(X_test)\n",
    "\n",
    "print (\"Fit a model X_train, and calculate MSE with Y_train: %f\" % np.mean((Y_train - pred_train) ** 2))\n",
    "print (\"Fit a model X_train, and calculate MSE with X_test, Y_test: %f\"% np.mean((Y_test - pred_test) ** 2))\n",
    "\n",
    "\n",
    "plt.scatter(Y_test,pred_test)\n",
    "plt.xlabel(\"actual\")\n",
    "plt.ylabel(\"predited\")\n",
    "plt.title(\"actual vs prediction\")\n",
    "plt.show()\n",
    "\n",
    "\n",
    "#zip (Y_test,pred_test)\n",
    "#zip (Y_train,pred_train)\n",
    "\n"
   ]
  },
  {
   "cell_type": "code",
   "execution_count": null,
   "metadata": {
    "collapsed": true
   },
   "outputs": [],
   "source": []
  }
 ],
 "metadata": {
  "kernelspec": {
   "display_name": "Python 3",
   "language": "python",
   "name": "python3"
  },
  "language_info": {
   "codemirror_mode": {
    "name": "ipython",
    "version": 3
   },
   "file_extension": ".py",
   "mimetype": "text/x-python",
   "name": "python",
   "nbconvert_exporter": "python",
   "pygments_lexer": "ipython3",
   "version": "3.4.3"
  }
 },
 "nbformat": 4,
 "nbformat_minor": 2
}
